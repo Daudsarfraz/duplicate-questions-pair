{
 "cells": [
  {
   "cell_type": "markdown",
   "id": "375c97d2",
   "metadata": {},
   "source": [
    "<h1>Dawood Sarfraz </h1>\n",
    "<h1> Duplicate Questions using RandomForestClassifier and XGBoostClassifier with Basic Feature Engineering </h1>"
   ]
  },
  {
   "cell_type": "markdown",
   "id": "c814bce9",
   "metadata": {},
   "source": [
    "# Dataset Description\n",
    "The ground truth is the set of labels that have been supplied by human experts. The ground truth labels are inherently subjective, as the true meaning of sentences can never be known with certainty. Human labeling is also a 'noisy' process, and reasonable people will disagree. As a result, the ground truth labels on this dataset should be taken to be 'informed' but not 100% accurate, and may include incorrect labeling. We believe the labels, on the whole, to represent a reasonable consensus, but this may often not be true on a case by case basis for individual items in the dataset.\n",
    "\n",
    "<b>Please note:</b> \n",
    "All of the questions in the training set are genuine examples from Quora.\n",
    "\n",
    "# Data fields\n",
    "<b>* id - </b> the id of a training set question pair </br>\n",
    "<b>* qid1, qid2 - </b>- unique ids of each question (only available in train.csv) </br>\n",
    "<b>* question1, question2 - </b>- the full text of each question </br>\n",
    "<b>* is_duplicate - </b> the target variable, set to 1 if question1 and question2 have essentially the same meaning, and 0 otherwise.</br>"
   ]
  },
  {
   "cell_type": "markdown",
   "id": "d6685fcb",
   "metadata": {},
   "source": [
    "# With some Basic Feature Engineering"
   ]
  },
  {
   "cell_type": "markdown",
   "id": "e372fba1",
   "metadata": {},
   "source": [
    "#### Q1 total words -> No. of words in Question 1\n",
    "#### Q2 total words -> No. of words in Question 2\n",
    "#### Q1 length -> Character length in Question 1\n",
    "#### Q2 length -> Character length in Question 2\n",
    "#### Words common in both questions -> Unique words in both like I'm Dawood. My name is DAwood. Here Dawood is Common \n",
    "#### Total Words in questions. -> Mean (words of Q1 + words of Q2)\n",
    "#### Shared words -> Question1 & Question2 (common words / Total words) mean how much words are same in both questions"
   ]
  },
  {
   "cell_type": "code",
   "execution_count": 1,
   "id": "f20858dd",
   "metadata": {},
   "outputs": [],
   "source": [
    "import numpy as np\n",
    "import pandas as pd\n",
    "import matplotlib.pyplot as plt\n",
    "import seaborn as sns\n",
    "\n",
    "import warnings\n",
    "warnings.filterwarnings('ignore')"
   ]
  },
  {
   "cell_type": "code",
   "execution_count": 2,
   "id": "7e6e6772",
   "metadata": {},
   "outputs": [],
   "source": [
    "df = pd.read_csv(\"train.csv\")"
   ]
  },
  {
   "cell_type": "code",
   "execution_count": 3,
   "id": "bbdeb18d",
   "metadata": {},
   "outputs": [
    {
     "data": {
      "text/plain": [
       "(404290, 6)"
      ]
     },
     "execution_count": 3,
     "metadata": {},
     "output_type": "execute_result"
    }
   ],
   "source": [
    "df.shape"
   ]
  },
  {
   "cell_type": "code",
   "execution_count": 4,
   "id": "45832eb4",
   "metadata": {},
   "outputs": [
    {
     "data": {
      "text/html": [
       "<div>\n",
       "<style scoped>\n",
       "    .dataframe tbody tr th:only-of-type {\n",
       "        vertical-align: middle;\n",
       "    }\n",
       "\n",
       "    .dataframe tbody tr th {\n",
       "        vertical-align: top;\n",
       "    }\n",
       "\n",
       "    .dataframe thead th {\n",
       "        text-align: right;\n",
       "    }\n",
       "</style>\n",
       "<table border=\"1\" class=\"dataframe\">\n",
       "  <thead>\n",
       "    <tr style=\"text-align: right;\">\n",
       "      <th></th>\n",
       "      <th>id</th>\n",
       "      <th>qid1</th>\n",
       "      <th>qid2</th>\n",
       "      <th>question1</th>\n",
       "      <th>question2</th>\n",
       "      <th>is_duplicate</th>\n",
       "    </tr>\n",
       "  </thead>\n",
       "  <tbody>\n",
       "    <tr>\n",
       "      <th>0</th>\n",
       "      <td>0</td>\n",
       "      <td>1</td>\n",
       "      <td>2</td>\n",
       "      <td>What is the step by step guide to invest in sh...</td>\n",
       "      <td>What is the step by step guide to invest in sh...</td>\n",
       "      <td>0</td>\n",
       "    </tr>\n",
       "    <tr>\n",
       "      <th>1</th>\n",
       "      <td>1</td>\n",
       "      <td>3</td>\n",
       "      <td>4</td>\n",
       "      <td>What is the story of Kohinoor (Koh-i-Noor) Dia...</td>\n",
       "      <td>What would happen if the Indian government sto...</td>\n",
       "      <td>0</td>\n",
       "    </tr>\n",
       "    <tr>\n",
       "      <th>2</th>\n",
       "      <td>2</td>\n",
       "      <td>5</td>\n",
       "      <td>6</td>\n",
       "      <td>How can I increase the speed of my internet co...</td>\n",
       "      <td>How can Internet speed be increased by hacking...</td>\n",
       "      <td>0</td>\n",
       "    </tr>\n",
       "    <tr>\n",
       "      <th>3</th>\n",
       "      <td>3</td>\n",
       "      <td>7</td>\n",
       "      <td>8</td>\n",
       "      <td>Why am I mentally very lonely? How can I solve...</td>\n",
       "      <td>Find the remainder when [math]23^{24}[/math] i...</td>\n",
       "      <td>0</td>\n",
       "    </tr>\n",
       "    <tr>\n",
       "      <th>4</th>\n",
       "      <td>4</td>\n",
       "      <td>9</td>\n",
       "      <td>10</td>\n",
       "      <td>Which one dissolve in water quikly sugar, salt...</td>\n",
       "      <td>Which fish would survive in salt water?</td>\n",
       "      <td>0</td>\n",
       "    </tr>\n",
       "  </tbody>\n",
       "</table>\n",
       "</div>"
      ],
      "text/plain": [
       "   id  qid1  qid2                                          question1  \\\n",
       "0   0     1     2  What is the step by step guide to invest in sh...   \n",
       "1   1     3     4  What is the story of Kohinoor (Koh-i-Noor) Dia...   \n",
       "2   2     5     6  How can I increase the speed of my internet co...   \n",
       "3   3     7     8  Why am I mentally very lonely? How can I solve...   \n",
       "4   4     9    10  Which one dissolve in water quikly sugar, salt...   \n",
       "\n",
       "                                           question2  is_duplicate  \n",
       "0  What is the step by step guide to invest in sh...             0  \n",
       "1  What would happen if the Indian government sto...             0  \n",
       "2  How can Internet speed be increased by hacking...             0  \n",
       "3  Find the remainder when [math]23^{24}[/math] i...             0  \n",
       "4            Which fish would survive in salt water?             0  "
      ]
     },
     "execution_count": 4,
     "metadata": {},
     "output_type": "execute_result"
    }
   ],
   "source": [
    "df.head(5)"
   ]
  },
  {
   "cell_type": "code",
   "execution_count": 5,
   "id": "fdca0ac0",
   "metadata": {},
   "outputs": [
    {
     "data": {
      "text/html": [
       "<div>\n",
       "<style scoped>\n",
       "    .dataframe tbody tr th:only-of-type {\n",
       "        vertical-align: middle;\n",
       "    }\n",
       "\n",
       "    .dataframe tbody tr th {\n",
       "        vertical-align: top;\n",
       "    }\n",
       "\n",
       "    .dataframe thead th {\n",
       "        text-align: right;\n",
       "    }\n",
       "</style>\n",
       "<table border=\"1\" class=\"dataframe\">\n",
       "  <thead>\n",
       "    <tr style=\"text-align: right;\">\n",
       "      <th></th>\n",
       "      <th>id</th>\n",
       "      <th>qid1</th>\n",
       "      <th>qid2</th>\n",
       "      <th>question1</th>\n",
       "      <th>question2</th>\n",
       "      <th>is_duplicate</th>\n",
       "    </tr>\n",
       "  </thead>\n",
       "  <tbody>\n",
       "    <tr>\n",
       "      <th>404285</th>\n",
       "      <td>404285</td>\n",
       "      <td>433578</td>\n",
       "      <td>379845</td>\n",
       "      <td>How many keywords are there in the Racket prog...</td>\n",
       "      <td>How many keywords are there in PERL Programmin...</td>\n",
       "      <td>0</td>\n",
       "    </tr>\n",
       "    <tr>\n",
       "      <th>404286</th>\n",
       "      <td>404286</td>\n",
       "      <td>18840</td>\n",
       "      <td>155606</td>\n",
       "      <td>Do you believe there is life after death?</td>\n",
       "      <td>Is it true that there is life after death?</td>\n",
       "      <td>1</td>\n",
       "    </tr>\n",
       "    <tr>\n",
       "      <th>404287</th>\n",
       "      <td>404287</td>\n",
       "      <td>537928</td>\n",
       "      <td>537929</td>\n",
       "      <td>What is one coin?</td>\n",
       "      <td>What's this coin?</td>\n",
       "      <td>0</td>\n",
       "    </tr>\n",
       "    <tr>\n",
       "      <th>404288</th>\n",
       "      <td>404288</td>\n",
       "      <td>537930</td>\n",
       "      <td>537931</td>\n",
       "      <td>What is the approx annual cost of living while...</td>\n",
       "      <td>I am having little hairfall problem but I want...</td>\n",
       "      <td>0</td>\n",
       "    </tr>\n",
       "    <tr>\n",
       "      <th>404289</th>\n",
       "      <td>404289</td>\n",
       "      <td>537932</td>\n",
       "      <td>537933</td>\n",
       "      <td>What is like to have sex with cousin?</td>\n",
       "      <td>What is it like to have sex with your cousin?</td>\n",
       "      <td>0</td>\n",
       "    </tr>\n",
       "  </tbody>\n",
       "</table>\n",
       "</div>"
      ],
      "text/plain": [
       "            id    qid1    qid2  \\\n",
       "404285  404285  433578  379845   \n",
       "404286  404286   18840  155606   \n",
       "404287  404287  537928  537929   \n",
       "404288  404288  537930  537931   \n",
       "404289  404289  537932  537933   \n",
       "\n",
       "                                                question1  \\\n",
       "404285  How many keywords are there in the Racket prog...   \n",
       "404286          Do you believe there is life after death?   \n",
       "404287                                  What is one coin?   \n",
       "404288  What is the approx annual cost of living while...   \n",
       "404289              What is like to have sex with cousin?   \n",
       "\n",
       "                                                question2  is_duplicate  \n",
       "404285  How many keywords are there in PERL Programmin...             0  \n",
       "404286         Is it true that there is life after death?             1  \n",
       "404287                                  What's this coin?             0  \n",
       "404288  I am having little hairfall problem but I want...             0  \n",
       "404289      What is it like to have sex with your cousin?             0  "
      ]
     },
     "execution_count": 5,
     "metadata": {},
     "output_type": "execute_result"
    }
   ],
   "source": [
    "df.tail(5)"
   ]
  },
  {
   "cell_type": "code",
   "execution_count": 6,
   "id": "d2e06802",
   "metadata": {},
   "outputs": [
    {
     "data": {
      "text/html": [
       "<div>\n",
       "<style scoped>\n",
       "    .dataframe tbody tr th:only-of-type {\n",
       "        vertical-align: middle;\n",
       "    }\n",
       "\n",
       "    .dataframe tbody tr th {\n",
       "        vertical-align: top;\n",
       "    }\n",
       "\n",
       "    .dataframe thead th {\n",
       "        text-align: right;\n",
       "    }\n",
       "</style>\n",
       "<table border=\"1\" class=\"dataframe\">\n",
       "  <thead>\n",
       "    <tr style=\"text-align: right;\">\n",
       "      <th></th>\n",
       "      <th>id</th>\n",
       "      <th>qid1</th>\n",
       "      <th>qid2</th>\n",
       "      <th>question1</th>\n",
       "      <th>question2</th>\n",
       "      <th>is_duplicate</th>\n",
       "    </tr>\n",
       "  </thead>\n",
       "  <tbody>\n",
       "    <tr>\n",
       "      <th>378207</th>\n",
       "      <td>378207</td>\n",
       "      <td>509589</td>\n",
       "      <td>509590</td>\n",
       "      <td>My ex was physically and emotionally abusive a...</td>\n",
       "      <td>Will one with abusive tendencies change over t...</td>\n",
       "      <td>0</td>\n",
       "    </tr>\n",
       "    <tr>\n",
       "      <th>135150</th>\n",
       "      <td>135150</td>\n",
       "      <td>215887</td>\n",
       "      <td>215888</td>\n",
       "      <td>Why dont the native americans get their own st...</td>\n",
       "      <td>Why is there no Native American country?</td>\n",
       "      <td>0</td>\n",
       "    </tr>\n",
       "    <tr>\n",
       "      <th>187621</th>\n",
       "      <td>187621</td>\n",
       "      <td>285917</td>\n",
       "      <td>198666</td>\n",
       "      <td>What is an informal economy? What are the adva...</td>\n",
       "      <td>What are the advantages and disadvantages of a...</td>\n",
       "      <td>1</td>\n",
       "    </tr>\n",
       "    <tr>\n",
       "      <th>245898</th>\n",
       "      <td>245898</td>\n",
       "      <td>189674</td>\n",
       "      <td>358836</td>\n",
       "      <td>You are being banished to a deserted island. E...</td>\n",
       "      <td>How would you answer the question, \"If everyon...</td>\n",
       "      <td>0</td>\n",
       "    </tr>\n",
       "    <tr>\n",
       "      <th>182727</th>\n",
       "      <td>182727</td>\n",
       "      <td>279596</td>\n",
       "      <td>279597</td>\n",
       "      <td>Are all backgrounds websites the same?</td>\n",
       "      <td>Is it advisable to have a website and app that...</td>\n",
       "      <td>0</td>\n",
       "    </tr>\n",
       "  </tbody>\n",
       "</table>\n",
       "</div>"
      ],
      "text/plain": [
       "            id    qid1    qid2  \\\n",
       "378207  378207  509589  509590   \n",
       "135150  135150  215887  215888   \n",
       "187621  187621  285917  198666   \n",
       "245898  245898  189674  358836   \n",
       "182727  182727  279596  279597   \n",
       "\n",
       "                                                question1  \\\n",
       "378207  My ex was physically and emotionally abusive a...   \n",
       "135150  Why dont the native americans get their own st...   \n",
       "187621  What is an informal economy? What are the adva...   \n",
       "245898  You are being banished to a deserted island. E...   \n",
       "182727             Are all backgrounds websites the same?   \n",
       "\n",
       "                                                question2  is_duplicate  \n",
       "378207  Will one with abusive tendencies change over t...             0  \n",
       "135150           Why is there no Native American country?             0  \n",
       "187621  What are the advantages and disadvantages of a...             1  \n",
       "245898  How would you answer the question, \"If everyon...             0  \n",
       "182727  Is it advisable to have a website and app that...             0  "
      ]
     },
     "execution_count": 6,
     "metadata": {},
     "output_type": "execute_result"
    }
   ],
   "source": [
    "df.sample(5)"
   ]
  },
  {
   "cell_type": "code",
   "execution_count": 7,
   "id": "2a30b67a",
   "metadata": {},
   "outputs": [
    {
     "name": "stdout",
     "output_type": "stream",
     "text": [
      "<class 'pandas.core.frame.DataFrame'>\n",
      "RangeIndex: 404290 entries, 0 to 404289\n",
      "Data columns (total 6 columns):\n",
      " #   Column        Non-Null Count   Dtype \n",
      "---  ------        --------------   ----- \n",
      " 0   id            404290 non-null  int64 \n",
      " 1   qid1          404290 non-null  int64 \n",
      " 2   qid2          404290 non-null  int64 \n",
      " 3   question1     404289 non-null  object\n",
      " 4   question2     404288 non-null  object\n",
      " 5   is_duplicate  404290 non-null  int64 \n",
      "dtypes: int64(4), object(2)\n",
      "memory usage: 18.5+ MB\n"
     ]
    }
   ],
   "source": [
    "df.info()"
   ]
  },
  {
   "cell_type": "code",
   "execution_count": 8,
   "id": "b97b1ebc",
   "metadata": {},
   "outputs": [
    {
     "data": {
      "text/plain": [
       "id              0\n",
       "qid1            0\n",
       "qid2            0\n",
       "question1       1\n",
       "question2       2\n",
       "is_duplicate    0\n",
       "dtype: int64"
      ]
     },
     "execution_count": 8,
     "metadata": {},
     "output_type": "execute_result"
    }
   ],
   "source": [
    "df.isnull().sum()"
   ]
  },
  {
   "cell_type": "code",
   "execution_count": 9,
   "id": "f2a5a70b",
   "metadata": {},
   "outputs": [
    {
     "data": {
      "text/plain": [
       "0"
      ]
     },
     "execution_count": 9,
     "metadata": {},
     "output_type": "execute_result"
    }
   ],
   "source": [
    "df.duplicated().sum()"
   ]
  },
  {
   "cell_type": "code",
   "execution_count": 10,
   "id": "ed10d6f3",
   "metadata": {},
   "outputs": [
    {
     "name": "stdout",
     "output_type": "stream",
     "text": [
      "is_duplicate\n",
      "0    255027\n",
      "1    149263\n",
      "Name: count, dtype: int64\n",
      "is_duplicate\n",
      "0    63.080215\n",
      "1    36.919785\n",
      "Name: count, dtype: float64\n"
     ]
    }
   ],
   "source": [
    "print(df[\"is_duplicate\"].value_counts())\n",
    "print((df[\"is_duplicate\"].value_counts()/df[\"is_duplicate\"].count())*100)"
   ]
  },
  {
   "cell_type": "code",
   "execution_count": 11,
   "id": "a7f76523",
   "metadata": {},
   "outputs": [
    {
     "data": {
      "text/plain": [
       "<Axes: xlabel='is_duplicate'>"
      ]
     },
     "execution_count": 11,
     "metadata": {},
     "output_type": "execute_result"
    },
    {
     "data": {
      "image/png": "[encoded data removed]",
      "text/plain": [
       "<Figure size 640x480 with 1 Axes>"
      ]
     },
     "metadata": {},
     "output_type": "display_data"
    }
   ],
   "source": [
    "df[\"is_duplicate\"].value_counts().plot(kind=\"bar\")"
   ]
  },
  {
   "cell_type": "code",
   "execution_count": 12,
   "id": "1aa5abf1",
   "metadata": {},
   "outputs": [
    {
     "data": {
      "text/plain": [
       "<Axes: ylabel='count'>"
      ]
     },
     "execution_count": 12,
     "metadata": {},
     "output_type": "execute_result"
    },
    {
     "data": {
      "image/png": "[encoded data removed]",
      "text/plain": [
       "<Figure size 640x480 with 1 Axes>"
      ]
     },
     "metadata": {},
     "output_type": "display_data"
    }
   ],
   "source": [
    "df[\"is_duplicate\"].value_counts().plot(kind=\"pie\")"
   ]
  },
  {
   "cell_type": "code",
   "execution_count": 13,
   "id": "fa957906",
   "metadata": {},
   "outputs": [
    {
     "name": "stdout",
     "output_type": "stream",
     "text": [
      "Number of Unique questions 537933\n"
     ]
    }
   ],
   "source": [
    "qid = pd.Series(df[\"qid1\"].tolist() + df[\"qid2\"].tolist())\n",
    "print(\"Number of Unique questions\",np.unique(qid).shape[0])"
   ]
  },
  {
   "cell_type": "code",
   "execution_count": 14,
   "id": "d9b08067",
   "metadata": {},
   "outputs": [
    {
     "name": "stdout",
     "output_type": "stream",
     "text": [
      "Number of questions repeated 111780\n"
     ]
    }
   ],
   "source": [
    "x = qid.value_counts()>1\n",
    "print(\"Number of questions repeated\",x[x].shape[0])"
   ]
  },
  {
   "cell_type": "code",
   "execution_count": 15,
   "id": "fdfab29e",
   "metadata": {},
   "outputs": [
    {
     "data": {
      "image/png": "[encoded data removed]",
      "text/plain": [
       "<Figure size 640x480 with 1 Axes>"
      ]
     },
     "metadata": {},
     "output_type": "display_data"
    }
   ],
   "source": [
    "plt.hist(qid.value_counts().values,bins=160)\n",
    "plt.yscale(\"log\")\n",
    "plt.show()"
   ]
  },
  {
   "cell_type": "code",
   "execution_count": 16,
   "id": "8a15a67f",
   "metadata": {},
   "outputs": [],
   "source": [
    "new_df = df.sample(20000,random_state=0)"
   ]
  },
  {
   "cell_type": "code",
   "execution_count": 17,
   "id": "29b6cc88",
   "metadata": {},
   "outputs": [
    {
     "data": {
      "text/plain": [
       "(20000, 6)"
      ]
     },
     "execution_count": 17,
     "metadata": {},
     "output_type": "execute_result"
    }
   ],
   "source": [
    "new_df.shape"
   ]
  },
  {
   "cell_type": "code",
   "execution_count": 18,
   "id": "69ad444f",
   "metadata": {},
   "outputs": [
    {
     "data": {
      "text/plain": [
       "id              0\n",
       "qid1            0\n",
       "qid2            0\n",
       "question1       0\n",
       "question2       0\n",
       "is_duplicate    0\n",
       "dtype: int64"
      ]
     },
     "execution_count": 18,
     "metadata": {},
     "output_type": "execute_result"
    }
   ],
   "source": [
    "new_df.isnull().sum()"
   ]
  },
  {
   "cell_type": "code",
   "execution_count": 19,
   "id": "d13a6806",
   "metadata": {},
   "outputs": [
    {
     "data": {
      "text/plain": [
       "0"
      ]
     },
     "execution_count": 19,
     "metadata": {},
     "output_type": "execute_result"
    }
   ],
   "source": [
    "new_df.duplicated().sum()"
   ]
  },
  {
   "cell_type": "code",
   "execution_count": 20,
   "id": "7516b5cf",
   "metadata": {},
   "outputs": [],
   "source": [
    "new_df = new_df.dropna()"
   ]
  },
  {
   "cell_type": "code",
   "execution_count": 21,
   "id": "11d69046",
   "metadata": {},
   "outputs": [
    {
     "data": {
      "text/plain": [
       "id              0\n",
       "qid1            0\n",
       "qid2            0\n",
       "question1       0\n",
       "question2       0\n",
       "is_duplicate    0\n",
       "dtype: int64"
      ]
     },
     "execution_count": 21,
     "metadata": {},
     "output_type": "execute_result"
    }
   ],
   "source": [
    "new_df.isnull().sum()"
   ]
  },
  {
   "cell_type": "code",
   "execution_count": 22,
   "id": "1d935b69",
   "metadata": {},
   "outputs": [],
   "source": [
    "new_df[\"q1_chars\"] = new_df[\"question1\"].str.len()\n",
    "new_df[\"q2_chars\"] = new_df[\"question2\"].str.len()"
   ]
  },
  {
   "cell_type": "code",
   "execution_count": 23,
   "id": "83a133b5",
   "metadata": {},
   "outputs": [
    {
     "data": {
      "text/html": [
       "<div>\n",
       "<style scoped>\n",
       "    .dataframe tbody tr th:only-of-type {\n",
       "        vertical-align: middle;\n",
       "    }\n",
       "\n",
       "    .dataframe tbody tr th {\n",
       "        vertical-align: top;\n",
       "    }\n",
       "\n",
       "    .dataframe thead th {\n",
       "        text-align: right;\n",
       "    }\n",
       "</style>\n",
       "<table border=\"1\" class=\"dataframe\">\n",
       "  <thead>\n",
       "    <tr style=\"text-align: right;\">\n",
       "      <th></th>\n",
       "      <th>id</th>\n",
       "      <th>qid1</th>\n",
       "      <th>qid2</th>\n",
       "      <th>question1</th>\n",
       "      <th>question2</th>\n",
       "      <th>is_duplicate</th>\n",
       "      <th>q1_chars</th>\n",
       "      <th>q2_chars</th>\n",
       "    </tr>\n",
       "  </thead>\n",
       "  <tbody>\n",
       "    <tr>\n",
       "      <th>187265</th>\n",
       "      <td>187265</td>\n",
       "      <td>61254</td>\n",
       "      <td>82970</td>\n",
       "      <td>Are we near World War 3?</td>\n",
       "      <td>Is World War 3 closer than it has ever been?</td>\n",
       "      <td>1</td>\n",
       "      <td>24</td>\n",
       "      <td>44</td>\n",
       "    </tr>\n",
       "    <tr>\n",
       "      <th>6557</th>\n",
       "      <td>6557</td>\n",
       "      <td>12839</td>\n",
       "      <td>12840</td>\n",
       "      <td>What are the best Doctor Doom stories?</td>\n",
       "      <td>What are the best comics featuring Doctor Doom?</td>\n",
       "      <td>1</td>\n",
       "      <td>38</td>\n",
       "      <td>47</td>\n",
       "    </tr>\n",
       "    <tr>\n",
       "      <th>139264</th>\n",
       "      <td>139264</td>\n",
       "      <td>221574</td>\n",
       "      <td>221575</td>\n",
       "      <td>Why are Newton's rings circular in shape? Why ...</td>\n",
       "      <td>Why is a circular ring pattern obtained in New...</td>\n",
       "      <td>0</td>\n",
       "      <td>76</td>\n",
       "      <td>64</td>\n",
       "    </tr>\n",
       "    <tr>\n",
       "      <th>240135</th>\n",
       "      <td>240135</td>\n",
       "      <td>227307</td>\n",
       "      <td>351892</td>\n",
       "      <td>How does Wikipedia ensure content quality / au...</td>\n",
       "      <td>How does Wikipedia keep content quality high?</td>\n",
       "      <td>1</td>\n",
       "      <td>71</td>\n",
       "      <td>45</td>\n",
       "    </tr>\n",
       "    <tr>\n",
       "      <th>3336</th>\n",
       "      <td>3336</td>\n",
       "      <td>6613</td>\n",
       "      <td>6614</td>\n",
       "      <td>Height: How would a 14 year old increase his h...</td>\n",
       "      <td>How should I increase my height?</td>\n",
       "      <td>1</td>\n",
       "      <td>52</td>\n",
       "      <td>32</td>\n",
       "    </tr>\n",
       "    <tr>\n",
       "      <th>...</th>\n",
       "      <td>...</td>\n",
       "      <td>...</td>\n",
       "      <td>...</td>\n",
       "      <td>...</td>\n",
       "      <td>...</td>\n",
       "      <td>...</td>\n",
       "      <td>...</td>\n",
       "      <td>...</td>\n",
       "    </tr>\n",
       "    <tr>\n",
       "      <th>329087</th>\n",
       "      <td>329087</td>\n",
       "      <td>455711</td>\n",
       "      <td>455712</td>\n",
       "      <td>Why is atheism authoritative in academic denia...</td>\n",
       "      <td>Why are moderators on Quora heavily biased in ...</td>\n",
       "      <td>0</td>\n",
       "      <td>148</td>\n",
       "      <td>64</td>\n",
       "    </tr>\n",
       "    <tr>\n",
       "      <th>53257</th>\n",
       "      <td>53257</td>\n",
       "      <td>94172</td>\n",
       "      <td>7614</td>\n",
       "      <td>Is being introverted bad?</td>\n",
       "      <td>How do introverts enjoy life?</td>\n",
       "      <td>0</td>\n",
       "      <td>25</td>\n",
       "      <td>29</td>\n",
       "    </tr>\n",
       "    <tr>\n",
       "      <th>33097</th>\n",
       "      <td>33097</td>\n",
       "      <td>60852</td>\n",
       "      <td>60853</td>\n",
       "      <td>How can I win the Amazon India buy box when I ...</td>\n",
       "      <td>How can I win the Amazon India buy box, when I...</td>\n",
       "      <td>1</td>\n",
       "      <td>82</td>\n",
       "      <td>83</td>\n",
       "    </tr>\n",
       "    <tr>\n",
       "      <th>84600</th>\n",
       "      <td>84600</td>\n",
       "      <td>143012</td>\n",
       "      <td>143013</td>\n",
       "      <td>Can you remove a turtle from its shell without...</td>\n",
       "      <td>Can turtles go inside their shells when they a...</td>\n",
       "      <td>0</td>\n",
       "      <td>58</td>\n",
       "      <td>60</td>\n",
       "    </tr>\n",
       "    <tr>\n",
       "      <th>340422</th>\n",
       "      <td>340422</td>\n",
       "      <td>88252</td>\n",
       "      <td>56903</td>\n",
       "      <td>Why did the Indian government ban Rs. 500 and ...</td>\n",
       "      <td>Why do you think Indian government has demolis...</td>\n",
       "      <td>1</td>\n",
       "      <td>64</td>\n",
       "      <td>75</td>\n",
       "    </tr>\n",
       "  </tbody>\n",
       "</table>\n",
       "<p>20000 rows × 8 columns</p>\n",
       "</div>"
      ],
      "text/plain": [
       "            id    qid1    qid2  \\\n",
       "187265  187265   61254   82970   \n",
       "6557      6557   12839   12840   \n",
       "139264  139264  221574  221575   \n",
       "240135  240135  227307  351892   \n",
       "3336      3336    6613    6614   \n",
       "...        ...     ...     ...   \n",
       "329087  329087  455711  455712   \n",
       "53257    53257   94172    7614   \n",
       "33097    33097   60852   60853   \n",
       "84600    84600  143012  143013   \n",
       "340422  340422   88252   56903   \n",
       "\n",
       "                                                question1  \\\n",
       "187265                           Are we near World War 3?   \n",
       "6557               What are the best Doctor Doom stories?   \n",
       "139264  Why are Newton's rings circular in shape? Why ...   \n",
       "240135  How does Wikipedia ensure content quality / au...   \n",
       "3336    Height: How would a 14 year old increase his h...   \n",
       "...                                                   ...   \n",
       "329087  Why is atheism authoritative in academic denia...   \n",
       "53257                           Is being introverted bad?   \n",
       "33097   How can I win the Amazon India buy box when I ...   \n",
       "84600   Can you remove a turtle from its shell without...   \n",
       "340422  Why did the Indian government ban Rs. 500 and ...   \n",
       "\n",
       "                                                question2  is_duplicate  \\\n",
       "187265       Is World War 3 closer than it has ever been?             1   \n",
       "6557      What are the best comics featuring Doctor Doom?             1   \n",
       "139264  Why is a circular ring pattern obtained in New...             0   \n",
       "240135      How does Wikipedia keep content quality high?             1   \n",
       "3336                     How should I increase my height?             1   \n",
       "...                                                   ...           ...   \n",
       "329087  Why are moderators on Quora heavily biased in ...             0   \n",
       "53257                       How do introverts enjoy life?             0   \n",
       "33097   How can I win the Amazon India buy box, when I...             1   \n",
       "84600   Can turtles go inside their shells when they a...             0   \n",
       "340422  Why do you think Indian government has demolis...             1   \n",
       "\n",
       "        q1_chars  q2_chars  \n",
       "187265        24        44  \n",
       "6557          38        47  \n",
       "139264        76        64  \n",
       "240135        71        45  \n",
       "3336          52        32  \n",
       "...          ...       ...  \n",
       "329087       148        64  \n",
       "53257         25        29  \n",
       "33097         82        83  \n",
       "84600         58        60  \n",
       "340422        64        75  \n",
       "\n",
       "[20000 rows x 8 columns]"
      ]
     },
     "execution_count": 23,
     "metadata": {},
     "output_type": "execute_result"
    }
   ],
   "source": [
    "new_df"
   ]
  },
  {
   "cell_type": "code",
   "execution_count": null,
   "id": "837de2c3",
   "metadata": {},
   "outputs": [],
   "source": []
  },
  {
   "cell_type": "code",
   "execution_count": 24,
   "id": "996a72f9",
   "metadata": {},
   "outputs": [],
   "source": [
    "new_df[\"num_of_words_q1\"] = new_df[\"question1\"].apply(lambda row: (len(row.split(' '))))\n",
    "new_df[\"num_of_words_q2\"] = new_df[\"question2\"].apply(lambda row: (len(row.split(' '))))"
   ]
  },
  {
   "cell_type": "code",
   "execution_count": 25,
   "id": "f3e653f5",
   "metadata": {},
   "outputs": [
    {
     "data": {
      "text/plain": [
       "(20000, 10)"
      ]
     },
     "execution_count": 25,
     "metadata": {},
     "output_type": "execute_result"
    }
   ],
   "source": [
    "new_df.shape"
   ]
  },
  {
   "cell_type": "code",
   "execution_count": 26,
   "id": "65b3ab1f",
   "metadata": {},
   "outputs": [
    {
     "data": {
      "text/html": [
       "<div>\n",
       "<style scoped>\n",
       "    .dataframe tbody tr th:only-of-type {\n",
       "        vertical-align: middle;\n",
       "    }\n",
       "\n",
       "    .dataframe tbody tr th {\n",
       "        vertical-align: top;\n",
       "    }\n",
       "\n",
       "    .dataframe thead th {\n",
       "        text-align: right;\n",
       "    }\n",
       "</style>\n",
       "<table border=\"1\" class=\"dataframe\">\n",
       "  <thead>\n",
       "    <tr style=\"text-align: right;\">\n",
       "      <th></th>\n",
       "      <th>id</th>\n",
       "      <th>qid1</th>\n",
       "      <th>qid2</th>\n",
       "      <th>question1</th>\n",
       "      <th>question2</th>\n",
       "      <th>is_duplicate</th>\n",
       "      <th>q1_chars</th>\n",
       "      <th>q2_chars</th>\n",
       "      <th>num_of_words_q1</th>\n",
       "      <th>num_of_words_q2</th>\n",
       "    </tr>\n",
       "  </thead>\n",
       "  <tbody>\n",
       "    <tr>\n",
       "      <th>187265</th>\n",
       "      <td>187265</td>\n",
       "      <td>61254</td>\n",
       "      <td>82970</td>\n",
       "      <td>Are we near World War 3?</td>\n",
       "      <td>Is World War 3 closer than it has ever been?</td>\n",
       "      <td>1</td>\n",
       "      <td>24</td>\n",
       "      <td>44</td>\n",
       "      <td>6</td>\n",
       "      <td>10</td>\n",
       "    </tr>\n",
       "    <tr>\n",
       "      <th>6557</th>\n",
       "      <td>6557</td>\n",
       "      <td>12839</td>\n",
       "      <td>12840</td>\n",
       "      <td>What are the best Doctor Doom stories?</td>\n",
       "      <td>What are the best comics featuring Doctor Doom?</td>\n",
       "      <td>1</td>\n",
       "      <td>38</td>\n",
       "      <td>47</td>\n",
       "      <td>7</td>\n",
       "      <td>8</td>\n",
       "    </tr>\n",
       "    <tr>\n",
       "      <th>139264</th>\n",
       "      <td>139264</td>\n",
       "      <td>221574</td>\n",
       "      <td>221575</td>\n",
       "      <td>Why are Newton's rings circular in shape? Why ...</td>\n",
       "      <td>Why is a circular ring pattern obtained in New...</td>\n",
       "      <td>0</td>\n",
       "      <td>76</td>\n",
       "      <td>64</td>\n",
       "      <td>14</td>\n",
       "      <td>11</td>\n",
       "    </tr>\n",
       "    <tr>\n",
       "      <th>240135</th>\n",
       "      <td>240135</td>\n",
       "      <td>227307</td>\n",
       "      <td>351892</td>\n",
       "      <td>How does Wikipedia ensure content quality / au...</td>\n",
       "      <td>How does Wikipedia keep content quality high?</td>\n",
       "      <td>1</td>\n",
       "      <td>71</td>\n",
       "      <td>45</td>\n",
       "      <td>10</td>\n",
       "      <td>7</td>\n",
       "    </tr>\n",
       "    <tr>\n",
       "      <th>3336</th>\n",
       "      <td>3336</td>\n",
       "      <td>6613</td>\n",
       "      <td>6614</td>\n",
       "      <td>Height: How would a 14 year old increase his h...</td>\n",
       "      <td>How should I increase my height?</td>\n",
       "      <td>1</td>\n",
       "      <td>52</td>\n",
       "      <td>32</td>\n",
       "      <td>10</td>\n",
       "      <td>6</td>\n",
       "    </tr>\n",
       "  </tbody>\n",
       "</table>\n",
       "</div>"
      ],
      "text/plain": [
       "            id    qid1    qid2  \\\n",
       "187265  187265   61254   82970   \n",
       "6557      6557   12839   12840   \n",
       "139264  139264  221574  221575   \n",
       "240135  240135  227307  351892   \n",
       "3336      3336    6613    6614   \n",
       "\n",
       "                                                question1  \\\n",
       "187265                           Are we near World War 3?   \n",
       "6557               What are the best Doctor Doom stories?   \n",
       "139264  Why are Newton's rings circular in shape? Why ...   \n",
       "240135  How does Wikipedia ensure content quality / au...   \n",
       "3336    Height: How would a 14 year old increase his h...   \n",
       "\n",
       "                                                question2  is_duplicate  \\\n",
       "187265       Is World War 3 closer than it has ever been?             1   \n",
       "6557      What are the best comics featuring Doctor Doom?             1   \n",
       "139264  Why is a circular ring pattern obtained in New...             0   \n",
       "240135      How does Wikipedia keep content quality high?             1   \n",
       "3336                     How should I increase my height?             1   \n",
       "\n",
       "        q1_chars  q2_chars  num_of_words_q1  num_of_words_q2  \n",
       "187265        24        44                6               10  \n",
       "6557          38        47                7                8  \n",
       "139264        76        64               14               11  \n",
       "240135        71        45               10                7  \n",
       "3336          52        32               10                6  "
      ]
     },
     "execution_count": 26,
     "metadata": {},
     "output_type": "execute_result"
    }
   ],
   "source": [
    "new_df.head(5)"
   ]
  },
  {
   "cell_type": "code",
   "execution_count": 27,
   "id": "bc86eec0",
   "metadata": {},
   "outputs": [
    {
     "data": {
      "text/html": [
       "<div>\n",
       "<style scoped>\n",
       "    .dataframe tbody tr th:only-of-type {\n",
       "        vertical-align: middle;\n",
       "    }\n",
       "\n",
       "    .dataframe tbody tr th {\n",
       "        vertical-align: top;\n",
       "    }\n",
       "\n",
       "    .dataframe thead th {\n",
       "        text-align: right;\n",
       "    }\n",
       "</style>\n",
       "<table border=\"1\" class=\"dataframe\">\n",
       "  <thead>\n",
       "    <tr style=\"text-align: right;\">\n",
       "      <th></th>\n",
       "      <th>id</th>\n",
       "      <th>qid1</th>\n",
       "      <th>qid2</th>\n",
       "      <th>question1</th>\n",
       "      <th>question2</th>\n",
       "      <th>is_duplicate</th>\n",
       "      <th>q1_chars</th>\n",
       "      <th>q2_chars</th>\n",
       "      <th>num_of_words_q1</th>\n",
       "      <th>num_of_words_q2</th>\n",
       "    </tr>\n",
       "  </thead>\n",
       "  <tbody>\n",
       "    <tr>\n",
       "      <th>329087</th>\n",
       "      <td>329087</td>\n",
       "      <td>455711</td>\n",
       "      <td>455712</td>\n",
       "      <td>Why is atheism authoritative in academic denia...</td>\n",
       "      <td>Why are moderators on Quora heavily biased in ...</td>\n",
       "      <td>0</td>\n",
       "      <td>148</td>\n",
       "      <td>64</td>\n",
       "      <td>19</td>\n",
       "      <td>11</td>\n",
       "    </tr>\n",
       "    <tr>\n",
       "      <th>53257</th>\n",
       "      <td>53257</td>\n",
       "      <td>94172</td>\n",
       "      <td>7614</td>\n",
       "      <td>Is being introverted bad?</td>\n",
       "      <td>How do introverts enjoy life?</td>\n",
       "      <td>0</td>\n",
       "      <td>25</td>\n",
       "      <td>29</td>\n",
       "      <td>4</td>\n",
       "      <td>5</td>\n",
       "    </tr>\n",
       "    <tr>\n",
       "      <th>33097</th>\n",
       "      <td>33097</td>\n",
       "      <td>60852</td>\n",
       "      <td>60853</td>\n",
       "      <td>How can I win the Amazon India buy box when I ...</td>\n",
       "      <td>How can I win the Amazon India buy box, when I...</td>\n",
       "      <td>1</td>\n",
       "      <td>82</td>\n",
       "      <td>83</td>\n",
       "      <td>18</td>\n",
       "      <td>18</td>\n",
       "    </tr>\n",
       "    <tr>\n",
       "      <th>84600</th>\n",
       "      <td>84600</td>\n",
       "      <td>143012</td>\n",
       "      <td>143013</td>\n",
       "      <td>Can you remove a turtle from its shell without...</td>\n",
       "      <td>Can turtles go inside their shells when they a...</td>\n",
       "      <td>0</td>\n",
       "      <td>58</td>\n",
       "      <td>60</td>\n",
       "      <td>11</td>\n",
       "      <td>10</td>\n",
       "    </tr>\n",
       "    <tr>\n",
       "      <th>340422</th>\n",
       "      <td>340422</td>\n",
       "      <td>88252</td>\n",
       "      <td>56903</td>\n",
       "      <td>Why did the Indian government ban Rs. 500 and ...</td>\n",
       "      <td>Why do you think Indian government has demolis...</td>\n",
       "      <td>1</td>\n",
       "      <td>64</td>\n",
       "      <td>75</td>\n",
       "      <td>12</td>\n",
       "      <td>14</td>\n",
       "    </tr>\n",
       "  </tbody>\n",
       "</table>\n",
       "</div>"
      ],
      "text/plain": [
       "            id    qid1    qid2  \\\n",
       "329087  329087  455711  455712   \n",
       "53257    53257   94172    7614   \n",
       "33097    33097   60852   60853   \n",
       "84600    84600  143012  143013   \n",
       "340422  340422   88252   56903   \n",
       "\n",
       "                                                question1  \\\n",
       "329087  Why is atheism authoritative in academic denia...   \n",
       "53257                           Is being introverted bad?   \n",
       "33097   How can I win the Amazon India buy box when I ...   \n",
       "84600   Can you remove a turtle from its shell without...   \n",
       "340422  Why did the Indian government ban Rs. 500 and ...   \n",
       "\n",
       "                                                question2  is_duplicate  \\\n",
       "329087  Why are moderators on Quora heavily biased in ...             0   \n",
       "53257                       How do introverts enjoy life?             0   \n",
       "33097   How can I win the Amazon India buy box, when I...             1   \n",
       "84600   Can turtles go inside their shells when they a...             0   \n",
       "340422  Why do you think Indian government has demolis...             1   \n",
       "\n",
       "        q1_chars  q2_chars  num_of_words_q1  num_of_words_q2  \n",
       "329087       148        64               19               11  \n",
       "53257         25        29                4                5  \n",
       "33097         82        83               18               18  \n",
       "84600         58        60               11               10  \n",
       "340422        64        75               12               14  "
      ]
     },
     "execution_count": 27,
     "metadata": {},
     "output_type": "execute_result"
    }
   ],
   "source": [
    "new_df.tail(5)"
   ]
  },
  {
   "cell_type": "code",
   "execution_count": 28,
   "id": "a9864727",
   "metadata": {},
   "outputs": [
    {
     "data": {
      "text/html": [
       "<div>\n",
       "<style scoped>\n",
       "    .dataframe tbody tr th:only-of-type {\n",
       "        vertical-align: middle;\n",
       "    }\n",
       "\n",
       "    .dataframe tbody tr th {\n",
       "        vertical-align: top;\n",
       "    }\n",
       "\n",
       "    .dataframe thead th {\n",
       "        text-align: right;\n",
       "    }\n",
       "</style>\n",
       "<table border=\"1\" class=\"dataframe\">\n",
       "  <thead>\n",
       "    <tr style=\"text-align: right;\">\n",
       "      <th></th>\n",
       "      <th>id</th>\n",
       "      <th>qid1</th>\n",
       "      <th>qid2</th>\n",
       "      <th>question1</th>\n",
       "      <th>question2</th>\n",
       "      <th>is_duplicate</th>\n",
       "      <th>q1_chars</th>\n",
       "      <th>q2_chars</th>\n",
       "      <th>num_of_words_q1</th>\n",
       "      <th>num_of_words_q2</th>\n",
       "    </tr>\n",
       "  </thead>\n",
       "  <tbody>\n",
       "    <tr>\n",
       "      <th>132473</th>\n",
       "      <td>132473</td>\n",
       "      <td>212110</td>\n",
       "      <td>212111</td>\n",
       "      <td>In the Tsar's Winter Palace, how were the hall...</td>\n",
       "      <td>Why does my AC thermostat have no power?</td>\n",
       "      <td>0</td>\n",
       "      <td>138</td>\n",
       "      <td>40</td>\n",
       "      <td>22</td>\n",
       "      <td>8</td>\n",
       "    </tr>\n",
       "    <tr>\n",
       "      <th>5476</th>\n",
       "      <td>5476</td>\n",
       "      <td>10772</td>\n",
       "      <td>10773</td>\n",
       "      <td>How do I fix Netflix problems on Roku?</td>\n",
       "      <td>How do you fix Netflix Wii problems?</td>\n",
       "      <td>0</td>\n",
       "      <td>38</td>\n",
       "      <td>36</td>\n",
       "      <td>8</td>\n",
       "      <td>7</td>\n",
       "    </tr>\n",
       "    <tr>\n",
       "      <th>309079</th>\n",
       "      <td>309079</td>\n",
       "      <td>433014</td>\n",
       "      <td>433015</td>\n",
       "      <td>What is the benefit of taking taxable bill?</td>\n",
       "      <td>What is the benefit of taking a membership at ...</td>\n",
       "      <td>0</td>\n",
       "      <td>43</td>\n",
       "      <td>56</td>\n",
       "      <td>8</td>\n",
       "      <td>10</td>\n",
       "    </tr>\n",
       "    <tr>\n",
       "      <th>132840</th>\n",
       "      <td>132840</td>\n",
       "      <td>212631</td>\n",
       "      <td>120686</td>\n",
       "      <td>What is the best phone to buy below $100?</td>\n",
       "      <td>Which is the best phone to buy under 20000?</td>\n",
       "      <td>0</td>\n",
       "      <td>41</td>\n",
       "      <td>43</td>\n",
       "      <td>9</td>\n",
       "      <td>9</td>\n",
       "    </tr>\n",
       "    <tr>\n",
       "      <th>361416</th>\n",
       "      <td>361416</td>\n",
       "      <td>469043</td>\n",
       "      <td>491261</td>\n",
       "      <td>What books should entrepreneurs read?</td>\n",
       "      <td>What are the seven must read book for the budd...</td>\n",
       "      <td>0</td>\n",
       "      <td>37</td>\n",
       "      <td>63</td>\n",
       "      <td>5</td>\n",
       "      <td>11</td>\n",
       "    </tr>\n",
       "  </tbody>\n",
       "</table>\n",
       "</div>"
      ],
      "text/plain": [
       "            id    qid1    qid2  \\\n",
       "132473  132473  212110  212111   \n",
       "5476      5476   10772   10773   \n",
       "309079  309079  433014  433015   \n",
       "132840  132840  212631  120686   \n",
       "361416  361416  469043  491261   \n",
       "\n",
       "                                                question1  \\\n",
       "132473  In the Tsar's Winter Palace, how were the hall...   \n",
       "5476               How do I fix Netflix problems on Roku?   \n",
       "309079        What is the benefit of taking taxable bill?   \n",
       "132840          What is the best phone to buy below $100?   \n",
       "361416              What books should entrepreneurs read?   \n",
       "\n",
       "                                                question2  is_duplicate  \\\n",
       "132473           Why does my AC thermostat have no power?             0   \n",
       "5476                 How do you fix Netflix Wii problems?             0   \n",
       "309079  What is the benefit of taking a membership at ...             0   \n",
       "132840        Which is the best phone to buy under 20000?             0   \n",
       "361416  What are the seven must read book for the budd...             0   \n",
       "\n",
       "        q1_chars  q2_chars  num_of_words_q1  num_of_words_q2  \n",
       "132473       138        40               22                8  \n",
       "5476          38        36                8                7  \n",
       "309079        43        56                8               10  \n",
       "132840        41        43                9                9  \n",
       "361416        37        63                5               11  "
      ]
     },
     "execution_count": 28,
     "metadata": {},
     "output_type": "execute_result"
    }
   ],
   "source": [
    "new_df.sample(5)"
   ]
  },
  {
   "cell_type": "code",
   "execution_count": 29,
   "id": "61bb3c7d",
   "metadata": {},
   "outputs": [],
   "source": [
    "\n",
    "def common_words_in_questions(row):\n",
    "    w1 = set(map(lambda word: word.lower().strip(), row[\"question1\"].split(\" \")))\n",
    "    w2 = set(map(lambda word: word.lower().strip(), row[\"question2\"].split(\" \")))\n",
    "    \n",
    "    return len(w1 & w2)"
   ]
  },
  {
   "cell_type": "code",
   "execution_count": 30,
   "id": "43e2affd",
   "metadata": {},
   "outputs": [],
   "source": [
    "new_df[\"common_words\"] = new_df.apply(common_words_in_questions, axis=1)"
   ]
  },
  {
   "cell_type": "code",
   "execution_count": 31,
   "id": "a5d70b45",
   "metadata": {},
   "outputs": [
    {
     "data": {
      "text/html": [
       "<div>\n",
       "<style scoped>\n",
       "    .dataframe tbody tr th:only-of-type {\n",
       "        vertical-align: middle;\n",
       "    }\n",
       "\n",
       "    .dataframe tbody tr th {\n",
       "        vertical-align: top;\n",
       "    }\n",
       "\n",
       "    .dataframe thead th {\n",
       "        text-align: right;\n",
       "    }\n",
       "</style>\n",
       "<table border=\"1\" class=\"dataframe\">\n",
       "  <thead>\n",
       "    <tr style=\"text-align: right;\">\n",
       "      <th></th>\n",
       "      <th>id</th>\n",
       "      <th>qid1</th>\n",
       "      <th>qid2</th>\n",
       "      <th>question1</th>\n",
       "      <th>question2</th>\n",
       "      <th>is_duplicate</th>\n",
       "      <th>q1_chars</th>\n",
       "      <th>q2_chars</th>\n",
       "      <th>num_of_words_q1</th>\n",
       "      <th>num_of_words_q2</th>\n",
       "      <th>common_words</th>\n",
       "    </tr>\n",
       "  </thead>\n",
       "  <tbody>\n",
       "    <tr>\n",
       "      <th>187265</th>\n",
       "      <td>187265</td>\n",
       "      <td>61254</td>\n",
       "      <td>82970</td>\n",
       "      <td>Are we near World War 3?</td>\n",
       "      <td>Is World War 3 closer than it has ever been?</td>\n",
       "      <td>1</td>\n",
       "      <td>24</td>\n",
       "      <td>44</td>\n",
       "      <td>6</td>\n",
       "      <td>10</td>\n",
       "      <td>2</td>\n",
       "    </tr>\n",
       "    <tr>\n",
       "      <th>6557</th>\n",
       "      <td>6557</td>\n",
       "      <td>12839</td>\n",
       "      <td>12840</td>\n",
       "      <td>What are the best Doctor Doom stories?</td>\n",
       "      <td>What are the best comics featuring Doctor Doom?</td>\n",
       "      <td>1</td>\n",
       "      <td>38</td>\n",
       "      <td>47</td>\n",
       "      <td>7</td>\n",
       "      <td>8</td>\n",
       "      <td>5</td>\n",
       "    </tr>\n",
       "    <tr>\n",
       "      <th>139264</th>\n",
       "      <td>139264</td>\n",
       "      <td>221574</td>\n",
       "      <td>221575</td>\n",
       "      <td>Why are Newton's rings circular in shape? Why ...</td>\n",
       "      <td>Why is a circular ring pattern obtained in New...</td>\n",
       "      <td>0</td>\n",
       "      <td>76</td>\n",
       "      <td>64</td>\n",
       "      <td>14</td>\n",
       "      <td>11</td>\n",
       "      <td>4</td>\n",
       "    </tr>\n",
       "    <tr>\n",
       "      <th>240135</th>\n",
       "      <td>240135</td>\n",
       "      <td>227307</td>\n",
       "      <td>351892</td>\n",
       "      <td>How does Wikipedia ensure content quality / au...</td>\n",
       "      <td>How does Wikipedia keep content quality high?</td>\n",
       "      <td>1</td>\n",
       "      <td>71</td>\n",
       "      <td>45</td>\n",
       "      <td>10</td>\n",
       "      <td>7</td>\n",
       "      <td>5</td>\n",
       "    </tr>\n",
       "    <tr>\n",
       "      <th>3336</th>\n",
       "      <td>3336</td>\n",
       "      <td>6613</td>\n",
       "      <td>6614</td>\n",
       "      <td>Height: How would a 14 year old increase his h...</td>\n",
       "      <td>How should I increase my height?</td>\n",
       "      <td>1</td>\n",
       "      <td>52</td>\n",
       "      <td>32</td>\n",
       "      <td>10</td>\n",
       "      <td>6</td>\n",
       "      <td>3</td>\n",
       "    </tr>\n",
       "  </tbody>\n",
       "</table>\n",
       "</div>"
      ],
      "text/plain": [
       "            id    qid1    qid2  \\\n",
       "187265  187265   61254   82970   \n",
       "6557      6557   12839   12840   \n",
       "139264  139264  221574  221575   \n",
       "240135  240135  227307  351892   \n",
       "3336      3336    6613    6614   \n",
       "\n",
       "                                                question1  \\\n",
       "187265                           Are we near World War 3?   \n",
       "6557               What are the best Doctor Doom stories?   \n",
       "139264  Why are Newton's rings circular in shape? Why ...   \n",
       "240135  How does Wikipedia ensure content quality / au...   \n",
       "3336    Height: How would a 14 year old increase his h...   \n",
       "\n",
       "                                                question2  is_duplicate  \\\n",
       "187265       Is World War 3 closer than it has ever been?             1   \n",
       "6557      What are the best comics featuring Doctor Doom?             1   \n",
       "139264  Why is a circular ring pattern obtained in New...             0   \n",
       "240135      How does Wikipedia keep content quality high?             1   \n",
       "3336                     How should I increase my height?             1   \n",
       "\n",
       "        q1_chars  q2_chars  num_of_words_q1  num_of_words_q2  common_words  \n",
       "187265        24        44                6               10             2  \n",
       "6557          38        47                7                8             5  \n",
       "139264        76        64               14               11             4  \n",
       "240135        71        45               10                7             5  \n",
       "3336          52        32               10                6             3  "
      ]
     },
     "execution_count": 31,
     "metadata": {},
     "output_type": "execute_result"
    }
   ],
   "source": [
    "new_df.head()"
   ]
  },
  {
   "cell_type": "code",
   "execution_count": 32,
   "id": "002613c1",
   "metadata": {},
   "outputs": [],
   "source": [
    "def total_words_in_question(row):\n",
    "    w1 = set(map(lambda word: word.lower().strip(), row[\"question1\"].split(\" \")))\n",
    "    w2 = set(map(lambda word: word.lower().strip(), row[\"question2\"].split(\" \")))\n",
    "    \n",
    "    return (len(w1) + len(w2))"
   ]
  },
  {
   "cell_type": "code",
   "execution_count": 33,
   "id": "f01e812f",
   "metadata": {},
   "outputs": [],
   "source": [
    " a = list((map(lambda word: word.lower().strip(),\"I am Final Year Student and I want to go to USA\".split(\" \"))))"
   ]
  },
  {
   "cell_type": "code",
   "execution_count": 34,
   "id": "3b4a7d6a",
   "metadata": {},
   "outputs": [
    {
     "data": {
      "text/plain": [
       "['i',\n",
       " 'am',\n",
       " 'final',\n",
       " 'year',\n",
       " 'student',\n",
       " 'and',\n",
       " 'i',\n",
       " 'want',\n",
       " 'to',\n",
       " 'go',\n",
       " 'to',\n",
       " 'usa']"
      ]
     },
     "execution_count": 34,
     "metadata": {},
     "output_type": "execute_result"
    }
   ],
   "source": [
    "a"
   ]
  },
  {
   "cell_type": "code",
   "execution_count": 35,
   "id": "909aa2a4",
   "metadata": {},
   "outputs": [],
   "source": [
    "a = set(a)"
   ]
  },
  {
   "cell_type": "code",
   "execution_count": 36,
   "id": "0d2d099d",
   "metadata": {},
   "outputs": [
    {
     "data": {
      "text/plain": [
       "{'am', 'and', 'final', 'go', 'i', 'student', 'to', 'usa', 'want', 'year'}"
      ]
     },
     "execution_count": 36,
     "metadata": {},
     "output_type": "execute_result"
    }
   ],
   "source": [
    "a # remove duplicates"
   ]
  },
  {
   "cell_type": "code",
   "execution_count": null,
   "id": "e1dd67a4",
   "metadata": {},
   "outputs": [],
   "source": []
  },
  {
   "cell_type": "code",
   "execution_count": 37,
   "id": "b430e424",
   "metadata": {},
   "outputs": [],
   "source": [
    "new_df[\"total_words_in_questions\"] = new_df.apply(total_words_in_question,axis=1)"
   ]
  },
  {
   "cell_type": "code",
   "execution_count": 38,
   "id": "86df6ef1",
   "metadata": {},
   "outputs": [
    {
     "data": {
      "text/plain": [
       "(20000, 12)"
      ]
     },
     "execution_count": 38,
     "metadata": {},
     "output_type": "execute_result"
    }
   ],
   "source": [
    "new_df.shape"
   ]
  },
  {
   "cell_type": "code",
   "execution_count": 39,
   "id": "dae1708b",
   "metadata": {},
   "outputs": [
    {
     "data": {
      "text/html": [
       "<div>\n",
       "<style scoped>\n",
       "    .dataframe tbody tr th:only-of-type {\n",
       "        vertical-align: middle;\n",
       "    }\n",
       "\n",
       "    .dataframe tbody tr th {\n",
       "        vertical-align: top;\n",
       "    }\n",
       "\n",
       "    .dataframe thead th {\n",
       "        text-align: right;\n",
       "    }\n",
       "</style>\n",
       "<table border=\"1\" class=\"dataframe\">\n",
       "  <thead>\n",
       "    <tr style=\"text-align: right;\">\n",
       "      <th></th>\n",
       "      <th>id</th>\n",
       "      <th>qid1</th>\n",
       "      <th>qid2</th>\n",
       "      <th>question1</th>\n",
       "      <th>question2</th>\n",
       "      <th>is_duplicate</th>\n",
       "      <th>q1_chars</th>\n",
       "      <th>q2_chars</th>\n",
       "      <th>num_of_words_q1</th>\n",
       "      <th>num_of_words_q2</th>\n",
       "      <th>common_words</th>\n",
       "      <th>total_words_in_questions</th>\n",
       "    </tr>\n",
       "  </thead>\n",
       "  <tbody>\n",
       "    <tr>\n",
       "      <th>187265</th>\n",
       "      <td>187265</td>\n",
       "      <td>61254</td>\n",
       "      <td>82970</td>\n",
       "      <td>Are we near World War 3?</td>\n",
       "      <td>Is World War 3 closer than it has ever been?</td>\n",
       "      <td>1</td>\n",
       "      <td>24</td>\n",
       "      <td>44</td>\n",
       "      <td>6</td>\n",
       "      <td>10</td>\n",
       "      <td>2</td>\n",
       "      <td>16</td>\n",
       "    </tr>\n",
       "    <tr>\n",
       "      <th>6557</th>\n",
       "      <td>6557</td>\n",
       "      <td>12839</td>\n",
       "      <td>12840</td>\n",
       "      <td>What are the best Doctor Doom stories?</td>\n",
       "      <td>What are the best comics featuring Doctor Doom?</td>\n",
       "      <td>1</td>\n",
       "      <td>38</td>\n",
       "      <td>47</td>\n",
       "      <td>7</td>\n",
       "      <td>8</td>\n",
       "      <td>5</td>\n",
       "      <td>15</td>\n",
       "    </tr>\n",
       "    <tr>\n",
       "      <th>139264</th>\n",
       "      <td>139264</td>\n",
       "      <td>221574</td>\n",
       "      <td>221575</td>\n",
       "      <td>Why are Newton's rings circular in shape? Why ...</td>\n",
       "      <td>Why is a circular ring pattern obtained in New...</td>\n",
       "      <td>0</td>\n",
       "      <td>76</td>\n",
       "      <td>64</td>\n",
       "      <td>14</td>\n",
       "      <td>11</td>\n",
       "      <td>4</td>\n",
       "      <td>22</td>\n",
       "    </tr>\n",
       "    <tr>\n",
       "      <th>240135</th>\n",
       "      <td>240135</td>\n",
       "      <td>227307</td>\n",
       "      <td>351892</td>\n",
       "      <td>How does Wikipedia ensure content quality / au...</td>\n",
       "      <td>How does Wikipedia keep content quality high?</td>\n",
       "      <td>1</td>\n",
       "      <td>71</td>\n",
       "      <td>45</td>\n",
       "      <td>10</td>\n",
       "      <td>7</td>\n",
       "      <td>5</td>\n",
       "      <td>17</td>\n",
       "    </tr>\n",
       "    <tr>\n",
       "      <th>3336</th>\n",
       "      <td>3336</td>\n",
       "      <td>6613</td>\n",
       "      <td>6614</td>\n",
       "      <td>Height: How would a 14 year old increase his h...</td>\n",
       "      <td>How should I increase my height?</td>\n",
       "      <td>1</td>\n",
       "      <td>52</td>\n",
       "      <td>32</td>\n",
       "      <td>10</td>\n",
       "      <td>6</td>\n",
       "      <td>3</td>\n",
       "      <td>16</td>\n",
       "    </tr>\n",
       "  </tbody>\n",
       "</table>\n",
       "</div>"
      ],
      "text/plain": [
       "            id    qid1    qid2  \\\n",
       "187265  187265   61254   82970   \n",
       "6557      6557   12839   12840   \n",
       "139264  139264  221574  221575   \n",
       "240135  240135  227307  351892   \n",
       "3336      3336    6613    6614   \n",
       "\n",
       "                                                question1  \\\n",
       "187265                           Are we near World War 3?   \n",
       "6557               What are the best Doctor Doom stories?   \n",
       "139264  Why are Newton's rings circular in shape? Why ...   \n",
       "240135  How does Wikipedia ensure content quality / au...   \n",
       "3336    Height: How would a 14 year old increase his h...   \n",
       "\n",
       "                                                question2  is_duplicate  \\\n",
       "187265       Is World War 3 closer than it has ever been?             1   \n",
       "6557      What are the best comics featuring Doctor Doom?             1   \n",
       "139264  Why is a circular ring pattern obtained in New...             0   \n",
       "240135      How does Wikipedia keep content quality high?             1   \n",
       "3336                     How should I increase my height?             1   \n",
       "\n",
       "        q1_chars  q2_chars  num_of_words_q1  num_of_words_q2  common_words  \\\n",
       "187265        24        44                6               10             2   \n",
       "6557          38        47                7                8             5   \n",
       "139264        76        64               14               11             4   \n",
       "240135        71        45               10                7             5   \n",
       "3336          52        32               10                6             3   \n",
       "\n",
       "        total_words_in_questions  \n",
       "187265                        16  \n",
       "6557                          15  \n",
       "139264                        22  \n",
       "240135                        17  \n",
       "3336                          16  "
      ]
     },
     "execution_count": 39,
     "metadata": {},
     "output_type": "execute_result"
    }
   ],
   "source": [
    "new_df.head(5)"
   ]
  },
  {
   "cell_type": "code",
   "execution_count": 40,
   "id": "4f7edc61",
   "metadata": {},
   "outputs": [
    {
     "data": {
      "text/html": [
       "<div>\n",
       "<style scoped>\n",
       "    .dataframe tbody tr th:only-of-type {\n",
       "        vertical-align: middle;\n",
       "    }\n",
       "\n",
       "    .dataframe tbody tr th {\n",
       "        vertical-align: top;\n",
       "    }\n",
       "\n",
       "    .dataframe thead th {\n",
       "        text-align: right;\n",
       "    }\n",
       "</style>\n",
       "<table border=\"1\" class=\"dataframe\">\n",
       "  <thead>\n",
       "    <tr style=\"text-align: right;\">\n",
       "      <th></th>\n",
       "      <th>id</th>\n",
       "      <th>qid1</th>\n",
       "      <th>qid2</th>\n",
       "      <th>question1</th>\n",
       "      <th>question2</th>\n",
       "      <th>is_duplicate</th>\n",
       "      <th>q1_chars</th>\n",
       "      <th>q2_chars</th>\n",
       "      <th>num_of_words_q1</th>\n",
       "      <th>num_of_words_q2</th>\n",
       "      <th>common_words</th>\n",
       "      <th>total_words_in_questions</th>\n",
       "    </tr>\n",
       "  </thead>\n",
       "  <tbody>\n",
       "    <tr>\n",
       "      <th>329087</th>\n",
       "      <td>329087</td>\n",
       "      <td>455711</td>\n",
       "      <td>455712</td>\n",
       "      <td>Why is atheism authoritative in academic denia...</td>\n",
       "      <td>Why are moderators on Quora heavily biased in ...</td>\n",
       "      <td>0</td>\n",
       "      <td>148</td>\n",
       "      <td>64</td>\n",
       "      <td>19</td>\n",
       "      <td>11</td>\n",
       "      <td>3</td>\n",
       "      <td>29</td>\n",
       "    </tr>\n",
       "    <tr>\n",
       "      <th>53257</th>\n",
       "      <td>53257</td>\n",
       "      <td>94172</td>\n",
       "      <td>7614</td>\n",
       "      <td>Is being introverted bad?</td>\n",
       "      <td>How do introverts enjoy life?</td>\n",
       "      <td>0</td>\n",
       "      <td>25</td>\n",
       "      <td>29</td>\n",
       "      <td>4</td>\n",
       "      <td>5</td>\n",
       "      <td>0</td>\n",
       "      <td>9</td>\n",
       "    </tr>\n",
       "    <tr>\n",
       "      <th>33097</th>\n",
       "      <td>33097</td>\n",
       "      <td>60852</td>\n",
       "      <td>60853</td>\n",
       "      <td>How can I win the Amazon India buy box when I ...</td>\n",
       "      <td>How can I win the Amazon India buy box, when I...</td>\n",
       "      <td>1</td>\n",
       "      <td>82</td>\n",
       "      <td>83</td>\n",
       "      <td>18</td>\n",
       "      <td>18</td>\n",
       "      <td>14</td>\n",
       "      <td>30</td>\n",
       "    </tr>\n",
       "    <tr>\n",
       "      <th>84600</th>\n",
       "      <td>84600</td>\n",
       "      <td>143012</td>\n",
       "      <td>143013</td>\n",
       "      <td>Can you remove a turtle from its shell without...</td>\n",
       "      <td>Can turtles go inside their shells when they a...</td>\n",
       "      <td>0</td>\n",
       "      <td>58</td>\n",
       "      <td>60</td>\n",
       "      <td>11</td>\n",
       "      <td>10</td>\n",
       "      <td>1</td>\n",
       "      <td>21</td>\n",
       "    </tr>\n",
       "    <tr>\n",
       "      <th>340422</th>\n",
       "      <td>340422</td>\n",
       "      <td>88252</td>\n",
       "      <td>56903</td>\n",
       "      <td>Why did the Indian government ban Rs. 500 and ...</td>\n",
       "      <td>Why do you think Indian government has demolis...</td>\n",
       "      <td>1</td>\n",
       "      <td>64</td>\n",
       "      <td>75</td>\n",
       "      <td>12</td>\n",
       "      <td>14</td>\n",
       "      <td>6</td>\n",
       "      <td>24</td>\n",
       "    </tr>\n",
       "  </tbody>\n",
       "</table>\n",
       "</div>"
      ],
      "text/plain": [
       "            id    qid1    qid2  \\\n",
       "329087  329087  455711  455712   \n",
       "53257    53257   94172    7614   \n",
       "33097    33097   60852   60853   \n",
       "84600    84600  143012  143013   \n",
       "340422  340422   88252   56903   \n",
       "\n",
       "                                                question1  \\\n",
       "329087  Why is atheism authoritative in academic denia...   \n",
       "53257                           Is being introverted bad?   \n",
       "33097   How can I win the Amazon India buy box when I ...   \n",
       "84600   Can you remove a turtle from its shell without...   \n",
       "340422  Why did the Indian government ban Rs. 500 and ...   \n",
       "\n",
       "                                                question2  is_duplicate  \\\n",
       "329087  Why are moderators on Quora heavily biased in ...             0   \n",
       "53257                       How do introverts enjoy life?             0   \n",
       "33097   How can I win the Amazon India buy box, when I...             1   \n",
       "84600   Can turtles go inside their shells when they a...             0   \n",
       "340422  Why do you think Indian government has demolis...             1   \n",
       "\n",
       "        q1_chars  q2_chars  num_of_words_q1  num_of_words_q2  common_words  \\\n",
       "329087       148        64               19               11             3   \n",
       "53257         25        29                4                5             0   \n",
       "33097         82        83               18               18            14   \n",
       "84600         58        60               11               10             1   \n",
       "340422        64        75               12               14             6   \n",
       "\n",
       "        total_words_in_questions  \n",
       "329087                        29  \n",
       "53257                          9  \n",
       "33097                         30  \n",
       "84600                         21  \n",
       "340422                        24  "
      ]
     },
     "execution_count": 40,
     "metadata": {},
     "output_type": "execute_result"
    }
   ],
   "source": [
    "new_df.tail()"
   ]
  },
  {
   "cell_type": "code",
   "execution_count": 41,
   "id": "957dc601",
   "metadata": {},
   "outputs": [
    {
     "data": {
      "text/html": [
       "<div>\n",
       "<style scoped>\n",
       "    .dataframe tbody tr th:only-of-type {\n",
       "        vertical-align: middle;\n",
       "    }\n",
       "\n",
       "    .dataframe tbody tr th {\n",
       "        vertical-align: top;\n",
       "    }\n",
       "\n",
       "    .dataframe thead th {\n",
       "        text-align: right;\n",
       "    }\n",
       "</style>\n",
       "<table border=\"1\" class=\"dataframe\">\n",
       "  <thead>\n",
       "    <tr style=\"text-align: right;\">\n",
       "      <th></th>\n",
       "      <th>id</th>\n",
       "      <th>qid1</th>\n",
       "      <th>qid2</th>\n",
       "      <th>question1</th>\n",
       "      <th>question2</th>\n",
       "      <th>is_duplicate</th>\n",
       "      <th>q1_chars</th>\n",
       "      <th>q2_chars</th>\n",
       "      <th>num_of_words_q1</th>\n",
       "      <th>num_of_words_q2</th>\n",
       "      <th>common_words</th>\n",
       "      <th>total_words_in_questions</th>\n",
       "    </tr>\n",
       "  </thead>\n",
       "  <tbody>\n",
       "    <tr>\n",
       "      <th>117306</th>\n",
       "      <td>117306</td>\n",
       "      <td>190891</td>\n",
       "      <td>190892</td>\n",
       "      <td>What is the difference J2EE and J2SE?</td>\n",
       "      <td>What is the difference between JavaScript and ...</td>\n",
       "      <td>0</td>\n",
       "      <td>37</td>\n",
       "      <td>51</td>\n",
       "      <td>7</td>\n",
       "      <td>8</td>\n",
       "      <td>5</td>\n",
       "      <td>15</td>\n",
       "    </tr>\n",
       "    <tr>\n",
       "      <th>274372</th>\n",
       "      <td>274372</td>\n",
       "      <td>77615</td>\n",
       "      <td>16463</td>\n",
       "      <td>How do I improve my conversation skills with a...</td>\n",
       "      <td>How do I improve my communication skills in on...</td>\n",
       "      <td>1</td>\n",
       "      <td>53</td>\n",
       "      <td>54</td>\n",
       "      <td>10</td>\n",
       "      <td>10</td>\n",
       "      <td>6</td>\n",
       "      <td>20</td>\n",
       "    </tr>\n",
       "    <tr>\n",
       "      <th>152859</th>\n",
       "      <td>152859</td>\n",
       "      <td>240074</td>\n",
       "      <td>240075</td>\n",
       "      <td>What universities does chemical Financial recr...</td>\n",
       "      <td>Which would be a better option DTU pct or USIT...</td>\n",
       "      <td>0</td>\n",
       "      <td>99</td>\n",
       "      <td>50</td>\n",
       "      <td>15</td>\n",
       "      <td>11</td>\n",
       "      <td>0</td>\n",
       "      <td>25</td>\n",
       "    </tr>\n",
       "    <tr>\n",
       "      <th>2623</th>\n",
       "      <td>2623</td>\n",
       "      <td>5212</td>\n",
       "      <td>5213</td>\n",
       "      <td>What are some less known facts about Gustav Sc...</td>\n",
       "      <td>How was Gustav Schwarzenegger's relationship w...</td>\n",
       "      <td>0</td>\n",
       "      <td>59</td>\n",
       "      <td>63</td>\n",
       "      <td>9</td>\n",
       "      <td>8</td>\n",
       "      <td>1</td>\n",
       "      <td>17</td>\n",
       "    </tr>\n",
       "    <tr>\n",
       "      <th>340643</th>\n",
       "      <td>340643</td>\n",
       "      <td>468406</td>\n",
       "      <td>468407</td>\n",
       "      <td>Why is the corner of my eye soring?</td>\n",
       "      <td>What are some treatments for soreness in my co...</td>\n",
       "      <td>0</td>\n",
       "      <td>35</td>\n",
       "      <td>62</td>\n",
       "      <td>8</td>\n",
       "      <td>12</td>\n",
       "      <td>4</td>\n",
       "      <td>20</td>\n",
       "    </tr>\n",
       "  </tbody>\n",
       "</table>\n",
       "</div>"
      ],
      "text/plain": [
       "            id    qid1    qid2  \\\n",
       "117306  117306  190891  190892   \n",
       "274372  274372   77615   16463   \n",
       "152859  152859  240074  240075   \n",
       "2623      2623    5212    5213   \n",
       "340643  340643  468406  468407   \n",
       "\n",
       "                                                question1  \\\n",
       "117306              What is the difference J2EE and J2SE?   \n",
       "274372  How do I improve my conversation skills with a...   \n",
       "152859  What universities does chemical Financial recr...   \n",
       "2623    What are some less known facts about Gustav Sc...   \n",
       "340643                Why is the corner of my eye soring?   \n",
       "\n",
       "                                                question2  is_duplicate  \\\n",
       "117306  What is the difference between JavaScript and ...             0   \n",
       "274372  How do I improve my communication skills in on...             1   \n",
       "152859  Which would be a better option DTU pct or USIT...             0   \n",
       "2623    How was Gustav Schwarzenegger's relationship w...             0   \n",
       "340643  What are some treatments for soreness in my co...             0   \n",
       "\n",
       "        q1_chars  q2_chars  num_of_words_q1  num_of_words_q2  common_words  \\\n",
       "117306        37        51                7                8             5   \n",
       "274372        53        54               10               10             6   \n",
       "152859        99        50               15               11             0   \n",
       "2623          59        63                9                8             1   \n",
       "340643        35        62                8               12             4   \n",
       "\n",
       "        total_words_in_questions  \n",
       "117306                        15  \n",
       "274372                        20  \n",
       "152859                        25  \n",
       "2623                          17  \n",
       "340643                        20  "
      ]
     },
     "execution_count": 41,
     "metadata": {},
     "output_type": "execute_result"
    }
   ],
   "source": [
    "new_df.sample(5)"
   ]
  },
  {
   "cell_type": "code",
   "execution_count": 42,
   "id": "9103763a",
   "metadata": {},
   "outputs": [],
   "source": [
    "new_df[\"shared_words_in_questions\"] = (new_df[\"common_words\"] / new_df[\"total_words_in_questions\"])"
   ]
  },
  {
   "cell_type": "code",
   "execution_count": 43,
   "id": "a5ff5b31",
   "metadata": {},
   "outputs": [
    {
     "data": {
      "text/plain": [
       "(20000, 13)"
      ]
     },
     "execution_count": 43,
     "metadata": {},
     "output_type": "execute_result"
    }
   ],
   "source": [
    "new_df.shape"
   ]
  },
  {
   "cell_type": "code",
   "execution_count": 44,
   "id": "1b0e68c2",
   "metadata": {},
   "outputs": [
    {
     "data": {
      "text/html": [
       "<div>\n",
       "<style scoped>\n",
       "    .dataframe tbody tr th:only-of-type {\n",
       "        vertical-align: middle;\n",
       "    }\n",
       "\n",
       "    .dataframe tbody tr th {\n",
       "        vertical-align: top;\n",
       "    }\n",
       "\n",
       "    .dataframe thead th {\n",
       "        text-align: right;\n",
       "    }\n",
       "</style>\n",
       "<table border=\"1\" class=\"dataframe\">\n",
       "  <thead>\n",
       "    <tr style=\"text-align: right;\">\n",
       "      <th></th>\n",
       "      <th>id</th>\n",
       "      <th>qid1</th>\n",
       "      <th>qid2</th>\n",
       "      <th>question1</th>\n",
       "      <th>question2</th>\n",
       "      <th>is_duplicate</th>\n",
       "      <th>q1_chars</th>\n",
       "      <th>q2_chars</th>\n",
       "      <th>num_of_words_q1</th>\n",
       "      <th>num_of_words_q2</th>\n",
       "      <th>common_words</th>\n",
       "      <th>total_words_in_questions</th>\n",
       "      <th>shared_words_in_questions</th>\n",
       "    </tr>\n",
       "  </thead>\n",
       "  <tbody>\n",
       "    <tr>\n",
       "      <th>187265</th>\n",
       "      <td>187265</td>\n",
       "      <td>61254</td>\n",
       "      <td>82970</td>\n",
       "      <td>Are we near World War 3?</td>\n",
       "      <td>Is World War 3 closer than it has ever been?</td>\n",
       "      <td>1</td>\n",
       "      <td>24</td>\n",
       "      <td>44</td>\n",
       "      <td>6</td>\n",
       "      <td>10</td>\n",
       "      <td>2</td>\n",
       "      <td>16</td>\n",
       "      <td>0.125000</td>\n",
       "    </tr>\n",
       "    <tr>\n",
       "      <th>6557</th>\n",
       "      <td>6557</td>\n",
       "      <td>12839</td>\n",
       "      <td>12840</td>\n",
       "      <td>What are the best Doctor Doom stories?</td>\n",
       "      <td>What are the best comics featuring Doctor Doom?</td>\n",
       "      <td>1</td>\n",
       "      <td>38</td>\n",
       "      <td>47</td>\n",
       "      <td>7</td>\n",
       "      <td>8</td>\n",
       "      <td>5</td>\n",
       "      <td>15</td>\n",
       "      <td>0.333333</td>\n",
       "    </tr>\n",
       "    <tr>\n",
       "      <th>139264</th>\n",
       "      <td>139264</td>\n",
       "      <td>221574</td>\n",
       "      <td>221575</td>\n",
       "      <td>Why are Newton's rings circular in shape? Why ...</td>\n",
       "      <td>Why is a circular ring pattern obtained in New...</td>\n",
       "      <td>0</td>\n",
       "      <td>76</td>\n",
       "      <td>64</td>\n",
       "      <td>14</td>\n",
       "      <td>11</td>\n",
       "      <td>4</td>\n",
       "      <td>22</td>\n",
       "      <td>0.181818</td>\n",
       "    </tr>\n",
       "    <tr>\n",
       "      <th>240135</th>\n",
       "      <td>240135</td>\n",
       "      <td>227307</td>\n",
       "      <td>351892</td>\n",
       "      <td>How does Wikipedia ensure content quality / au...</td>\n",
       "      <td>How does Wikipedia keep content quality high?</td>\n",
       "      <td>1</td>\n",
       "      <td>71</td>\n",
       "      <td>45</td>\n",
       "      <td>10</td>\n",
       "      <td>7</td>\n",
       "      <td>5</td>\n",
       "      <td>17</td>\n",
       "      <td>0.294118</td>\n",
       "    </tr>\n",
       "    <tr>\n",
       "      <th>3336</th>\n",
       "      <td>3336</td>\n",
       "      <td>6613</td>\n",
       "      <td>6614</td>\n",
       "      <td>Height: How would a 14 year old increase his h...</td>\n",
       "      <td>How should I increase my height?</td>\n",
       "      <td>1</td>\n",
       "      <td>52</td>\n",
       "      <td>32</td>\n",
       "      <td>10</td>\n",
       "      <td>6</td>\n",
       "      <td>3</td>\n",
       "      <td>16</td>\n",
       "      <td>0.187500</td>\n",
       "    </tr>\n",
       "  </tbody>\n",
       "</table>\n",
       "</div>"
      ],
      "text/plain": [
       "            id    qid1    qid2  \\\n",
       "187265  187265   61254   82970   \n",
       "6557      6557   12839   12840   \n",
       "139264  139264  221574  221575   \n",
       "240135  240135  227307  351892   \n",
       "3336      3336    6613    6614   \n",
       "\n",
       "                                                question1  \\\n",
       "187265                           Are we near World War 3?   \n",
       "6557               What are the best Doctor Doom stories?   \n",
       "139264  Why are Newton's rings circular in shape? Why ...   \n",
       "240135  How does Wikipedia ensure content quality / au...   \n",
       "3336    Height: How would a 14 year old increase his h...   \n",
       "\n",
       "                                                question2  is_duplicate  \\\n",
       "187265       Is World War 3 closer than it has ever been?             1   \n",
       "6557      What are the best comics featuring Doctor Doom?             1   \n",
       "139264  Why is a circular ring pattern obtained in New...             0   \n",
       "240135      How does Wikipedia keep content quality high?             1   \n",
       "3336                     How should I increase my height?             1   \n",
       "\n",
       "        q1_chars  q2_chars  num_of_words_q1  num_of_words_q2  common_words  \\\n",
       "187265        24        44                6               10             2   \n",
       "6557          38        47                7                8             5   \n",
       "139264        76        64               14               11             4   \n",
       "240135        71        45               10                7             5   \n",
       "3336          52        32               10                6             3   \n",
       "\n",
       "        total_words_in_questions  shared_words_in_questions  \n",
       "187265                        16                   0.125000  \n",
       "6557                          15                   0.333333  \n",
       "139264                        22                   0.181818  \n",
       "240135                        17                   0.294118  \n",
       "3336                          16                   0.187500  "
      ]
     },
     "execution_count": 44,
     "metadata": {},
     "output_type": "execute_result"
    }
   ],
   "source": [
    "new_df.head(5)"
   ]
  },
  {
   "cell_type": "code",
   "execution_count": 45,
   "id": "45716adf",
   "metadata": {},
   "outputs": [
    {
     "data": {
      "text/html": [
       "<div>\n",
       "<style scoped>\n",
       "    .dataframe tbody tr th:only-of-type {\n",
       "        vertical-align: middle;\n",
       "    }\n",
       "\n",
       "    .dataframe tbody tr th {\n",
       "        vertical-align: top;\n",
       "    }\n",
       "\n",
       "    .dataframe thead th {\n",
       "        text-align: right;\n",
       "    }\n",
       "</style>\n",
       "<table border=\"1\" class=\"dataframe\">\n",
       "  <thead>\n",
       "    <tr style=\"text-align: right;\">\n",
       "      <th></th>\n",
       "      <th>id</th>\n",
       "      <th>qid1</th>\n",
       "      <th>qid2</th>\n",
       "      <th>question1</th>\n",
       "      <th>question2</th>\n",
       "      <th>is_duplicate</th>\n",
       "      <th>q1_chars</th>\n",
       "      <th>q2_chars</th>\n",
       "      <th>num_of_words_q1</th>\n",
       "      <th>num_of_words_q2</th>\n",
       "      <th>common_words</th>\n",
       "      <th>total_words_in_questions</th>\n",
       "      <th>shared_words_in_questions</th>\n",
       "    </tr>\n",
       "  </thead>\n",
       "  <tbody>\n",
       "    <tr>\n",
       "      <th>329087</th>\n",
       "      <td>329087</td>\n",
       "      <td>455711</td>\n",
       "      <td>455712</td>\n",
       "      <td>Why is atheism authoritative in academic denia...</td>\n",
       "      <td>Why are moderators on Quora heavily biased in ...</td>\n",
       "      <td>0</td>\n",
       "      <td>148</td>\n",
       "      <td>64</td>\n",
       "      <td>19</td>\n",
       "      <td>11</td>\n",
       "      <td>3</td>\n",
       "      <td>29</td>\n",
       "      <td>0.103448</td>\n",
       "    </tr>\n",
       "    <tr>\n",
       "      <th>53257</th>\n",
       "      <td>53257</td>\n",
       "      <td>94172</td>\n",
       "      <td>7614</td>\n",
       "      <td>Is being introverted bad?</td>\n",
       "      <td>How do introverts enjoy life?</td>\n",
       "      <td>0</td>\n",
       "      <td>25</td>\n",
       "      <td>29</td>\n",
       "      <td>4</td>\n",
       "      <td>5</td>\n",
       "      <td>0</td>\n",
       "      <td>9</td>\n",
       "      <td>0.000000</td>\n",
       "    </tr>\n",
       "    <tr>\n",
       "      <th>33097</th>\n",
       "      <td>33097</td>\n",
       "      <td>60852</td>\n",
       "      <td>60853</td>\n",
       "      <td>How can I win the Amazon India buy box when I ...</td>\n",
       "      <td>How can I win the Amazon India buy box, when I...</td>\n",
       "      <td>1</td>\n",
       "      <td>82</td>\n",
       "      <td>83</td>\n",
       "      <td>18</td>\n",
       "      <td>18</td>\n",
       "      <td>14</td>\n",
       "      <td>30</td>\n",
       "      <td>0.466667</td>\n",
       "    </tr>\n",
       "    <tr>\n",
       "      <th>84600</th>\n",
       "      <td>84600</td>\n",
       "      <td>143012</td>\n",
       "      <td>143013</td>\n",
       "      <td>Can you remove a turtle from its shell without...</td>\n",
       "      <td>Can turtles go inside their shells when they a...</td>\n",
       "      <td>0</td>\n",
       "      <td>58</td>\n",
       "      <td>60</td>\n",
       "      <td>11</td>\n",
       "      <td>10</td>\n",
       "      <td>1</td>\n",
       "      <td>21</td>\n",
       "      <td>0.047619</td>\n",
       "    </tr>\n",
       "    <tr>\n",
       "      <th>340422</th>\n",
       "      <td>340422</td>\n",
       "      <td>88252</td>\n",
       "      <td>56903</td>\n",
       "      <td>Why did the Indian government ban Rs. 500 and ...</td>\n",
       "      <td>Why do you think Indian government has demolis...</td>\n",
       "      <td>1</td>\n",
       "      <td>64</td>\n",
       "      <td>75</td>\n",
       "      <td>12</td>\n",
       "      <td>14</td>\n",
       "      <td>6</td>\n",
       "      <td>24</td>\n",
       "      <td>0.250000</td>\n",
       "    </tr>\n",
       "  </tbody>\n",
       "</table>\n",
       "</div>"
      ],
      "text/plain": [
       "            id    qid1    qid2  \\\n",
       "329087  329087  455711  455712   \n",
       "53257    53257   94172    7614   \n",
       "33097    33097   60852   60853   \n",
       "84600    84600  143012  143013   \n",
       "340422  340422   88252   56903   \n",
       "\n",
       "                                                question1  \\\n",
       "329087  Why is atheism authoritative in academic denia...   \n",
       "53257                           Is being introverted bad?   \n",
       "33097   How can I win the Amazon India buy box when I ...   \n",
       "84600   Can you remove a turtle from its shell without...   \n",
       "340422  Why did the Indian government ban Rs. 500 and ...   \n",
       "\n",
       "                                                question2  is_duplicate  \\\n",
       "329087  Why are moderators on Quora heavily biased in ...             0   \n",
       "53257                       How do introverts enjoy life?             0   \n",
       "33097   How can I win the Amazon India buy box, when I...             1   \n",
       "84600   Can turtles go inside their shells when they a...             0   \n",
       "340422  Why do you think Indian government has demolis...             1   \n",
       "\n",
       "        q1_chars  q2_chars  num_of_words_q1  num_of_words_q2  common_words  \\\n",
       "329087       148        64               19               11             3   \n",
       "53257         25        29                4                5             0   \n",
       "33097         82        83               18               18            14   \n",
       "84600         58        60               11               10             1   \n",
       "340422        64        75               12               14             6   \n",
       "\n",
       "        total_words_in_questions  shared_words_in_questions  \n",
       "329087                        29                   0.103448  \n",
       "53257                          9                   0.000000  \n",
       "33097                         30                   0.466667  \n",
       "84600                         21                   0.047619  \n",
       "340422                        24                   0.250000  "
      ]
     },
     "execution_count": 45,
     "metadata": {},
     "output_type": "execute_result"
    }
   ],
   "source": [
    "new_df.tail(5)"
   ]
  },
  {
   "cell_type": "code",
   "execution_count": 46,
   "id": "286aa6b1",
   "metadata": {},
   "outputs": [
    {
     "data": {
      "text/html": [
       "<div>\n",
       "<style scoped>\n",
       "    .dataframe tbody tr th:only-of-type {\n",
       "        vertical-align: middle;\n",
       "    }\n",
       "\n",
       "    .dataframe tbody tr th {\n",
       "        vertical-align: top;\n",
       "    }\n",
       "\n",
       "    .dataframe thead th {\n",
       "        text-align: right;\n",
       "    }\n",
       "</style>\n",
       "<table border=\"1\" class=\"dataframe\">\n",
       "  <thead>\n",
       "    <tr style=\"text-align: right;\">\n",
       "      <th></th>\n",
       "      <th>id</th>\n",
       "      <th>qid1</th>\n",
       "      <th>qid2</th>\n",
       "      <th>question1</th>\n",
       "      <th>question2</th>\n",
       "      <th>is_duplicate</th>\n",
       "      <th>q1_chars</th>\n",
       "      <th>q2_chars</th>\n",
       "      <th>num_of_words_q1</th>\n",
       "      <th>num_of_words_q2</th>\n",
       "      <th>common_words</th>\n",
       "      <th>total_words_in_questions</th>\n",
       "      <th>shared_words_in_questions</th>\n",
       "    </tr>\n",
       "  </thead>\n",
       "  <tbody>\n",
       "    <tr>\n",
       "      <th>178067</th>\n",
       "      <td>178067</td>\n",
       "      <td>129216</td>\n",
       "      <td>88971</td>\n",
       "      <td>What are some effective methods to grow taller...</td>\n",
       "      <td>How can I grow taller at 18?</td>\n",
       "      <td>1</td>\n",
       "      <td>56</td>\n",
       "      <td>28</td>\n",
       "      <td>10</td>\n",
       "      <td>7</td>\n",
       "      <td>2</td>\n",
       "      <td>17</td>\n",
       "      <td>0.117647</td>\n",
       "    </tr>\n",
       "    <tr>\n",
       "      <th>367646</th>\n",
       "      <td>367646</td>\n",
       "      <td>345622</td>\n",
       "      <td>108957</td>\n",
       "      <td>What are the best songs for learning American ...</td>\n",
       "      <td>What are the best English songs?</td>\n",
       "      <td>0</td>\n",
       "      <td>54</td>\n",
       "      <td>32</td>\n",
       "      <td>9</td>\n",
       "      <td>6</td>\n",
       "      <td>4</td>\n",
       "      <td>15</td>\n",
       "      <td>0.266667</td>\n",
       "    </tr>\n",
       "    <tr>\n",
       "      <th>188824</th>\n",
       "      <td>188824</td>\n",
       "      <td>52837</td>\n",
       "      <td>51586</td>\n",
       "      <td>What's the purpose of a human life?</td>\n",
       "      <td>What is the purpose of life? Why are we here?</td>\n",
       "      <td>1</td>\n",
       "      <td>35</td>\n",
       "      <td>45</td>\n",
       "      <td>7</td>\n",
       "      <td>10</td>\n",
       "      <td>4</td>\n",
       "      <td>17</td>\n",
       "      <td>0.235294</td>\n",
       "    </tr>\n",
       "    <tr>\n",
       "      <th>202056</th>\n",
       "      <td>202056</td>\n",
       "      <td>54926</td>\n",
       "      <td>304224</td>\n",
       "      <td>Which coaching is best for iit?</td>\n",
       "      <td>Which is the best coaching institute for IITs?</td>\n",
       "      <td>1</td>\n",
       "      <td>31</td>\n",
       "      <td>46</td>\n",
       "      <td>6</td>\n",
       "      <td>8</td>\n",
       "      <td>5</td>\n",
       "      <td>14</td>\n",
       "      <td>0.357143</td>\n",
       "    </tr>\n",
       "    <tr>\n",
       "      <th>74535</th>\n",
       "      <td>74535</td>\n",
       "      <td>127718</td>\n",
       "      <td>127719</td>\n",
       "      <td>Do electric radiators emit radiation (at harmf...</td>\n",
       "      <td>If my phone is in flight mode, will it emit ra...</td>\n",
       "      <td>0</td>\n",
       "      <td>145</td>\n",
       "      <td>54</td>\n",
       "      <td>26</td>\n",
       "      <td>11</td>\n",
       "      <td>2</td>\n",
       "      <td>35</td>\n",
       "      <td>0.057143</td>\n",
       "    </tr>\n",
       "  </tbody>\n",
       "</table>\n",
       "</div>"
      ],
      "text/plain": [
       "            id    qid1    qid2  \\\n",
       "178067  178067  129216   88971   \n",
       "367646  367646  345622  108957   \n",
       "188824  188824   52837   51586   \n",
       "202056  202056   54926  304224   \n",
       "74535    74535  127718  127719   \n",
       "\n",
       "                                                question1  \\\n",
       "178067  What are some effective methods to grow taller...   \n",
       "367646  What are the best songs for learning American ...   \n",
       "188824                What's the purpose of a human life?   \n",
       "202056                    Which coaching is best for iit?   \n",
       "74535   Do electric radiators emit radiation (at harmf...   \n",
       "\n",
       "                                                question2  is_duplicate  \\\n",
       "178067                       How can I grow taller at 18?             1   \n",
       "367646                   What are the best English songs?             0   \n",
       "188824      What is the purpose of life? Why are we here?             1   \n",
       "202056     Which is the best coaching institute for IITs?             1   \n",
       "74535   If my phone is in flight mode, will it emit ra...             0   \n",
       "\n",
       "        q1_chars  q2_chars  num_of_words_q1  num_of_words_q2  common_words  \\\n",
       "178067        56        28               10                7             2   \n",
       "367646        54        32                9                6             4   \n",
       "188824        35        45                7               10             4   \n",
       "202056        31        46                6                8             5   \n",
       "74535        145        54               26               11             2   \n",
       "\n",
       "        total_words_in_questions  shared_words_in_questions  \n",
       "178067                        17                   0.117647  \n",
       "367646                        15                   0.266667  \n",
       "188824                        17                   0.235294  \n",
       "202056                        14                   0.357143  \n",
       "74535                         35                   0.057143  "
      ]
     },
     "execution_count": 46,
     "metadata": {},
     "output_type": "execute_result"
    }
   ],
   "source": [
    "new_df.sample(5)"
   ]
  },
  {
   "cell_type": "markdown",
   "id": "0684ca3f",
   "metadata": {},
   "source": [
    "## Feature Anaysis of Question 1"
   ]
  },
  {
   "cell_type": "code",
   "execution_count": 47,
   "id": "c107e3e2",
   "metadata": {},
   "outputs": [
    {
     "data": {
      "text/plain": [
       "<seaborn.axisgrid.FacetGrid at 0x7ff1ef401810>"
      ]
     },
     "execution_count": 47,
     "metadata": {},
     "output_type": "execute_result"
    },
    {
     "data": {
      "image/png": "[encoded data removed]",
      "text/plain": [
       "<Figure size 500x500 with 1 Axes>"
      ]
     },
     "metadata": {},
     "output_type": "display_data"
    }
   ],
   "source": [
    "\n",
    "sns.displot(new_df[\"q1_chars\"])"
   ]
  },
  {
   "cell_type": "code",
   "execution_count": 48,
   "id": "28cf7410",
   "metadata": {},
   "outputs": [
    {
     "name": "stdout",
     "output_type": "stream",
     "text": [
      "Minimum No, of Characters 1\n"
     ]
    }
   ],
   "source": [
    "print(\"Minimum No, of Characters\", new_df[\"q1_chars\"].min())"
   ]
  },
  {
   "cell_type": "code",
   "execution_count": 49,
   "id": "bb94f8ec",
   "metadata": {},
   "outputs": [
    {
     "name": "stdout",
     "output_type": "stream",
     "text": [
      "Maximum No. of Characters 335\n"
     ]
    }
   ],
   "source": [
    "print(\"Maximum No. of Characters\", new_df[\"q1_chars\"].max())"
   ]
  },
  {
   "cell_type": "code",
   "execution_count": 50,
   "id": "bc793f15",
   "metadata": {},
   "outputs": [
    {
     "name": "stdout",
     "output_type": "stream",
     "text": [
      "Average No. of Characters 59\n"
     ]
    }
   ],
   "source": [
    "print(\"Average No. of Characters\", int(new_df[\"q1_chars\"].mean()))"
   ]
  },
  {
   "cell_type": "markdown",
   "id": "60804ecc",
   "metadata": {},
   "source": [
    "## Features Anaysis of Question 2"
   ]
  },
  {
   "cell_type": "code",
   "execution_count": 51,
   "id": "20809c1d",
   "metadata": {},
   "outputs": [
    {
     "data": {
      "text/plain": [
       "<seaborn.axisgrid.FacetGrid at 0x7ff1fc36efb0>"
      ]
     },
     "execution_count": 51,
     "metadata": {},
     "output_type": "execute_result"
    },
    {
     "data": {
      "image/png": "[encoded data removed]",
      "text/plain": [
       "<Figure size 500x500 with 1 Axes>"
      ]
     },
     "metadata": {},
     "output_type": "display_data"
    }
   ],
   "source": [
    "sns.displot(new_df[\"q2_chars\"])"
   ]
  },
  {
   "cell_type": "code",
   "execution_count": 52,
   "id": "271e7104",
   "metadata": {},
   "outputs": [
    {
     "name": "stdout",
     "output_type": "stream",
     "text": [
      "Minimum No. of Characters 5\n"
     ]
    }
   ],
   "source": [
    "print(\"Minimum No. of Characters\", new_df[\"q2_chars\"].min())"
   ]
  },
  {
   "cell_type": "code",
   "execution_count": 53,
   "id": "f3407913",
   "metadata": {},
   "outputs": [
    {
     "name": "stdout",
     "output_type": "stream",
     "text": [
      "Maximum No. of Characters 1151\n"
     ]
    }
   ],
   "source": [
    "print(\"Maximum No. of Characters\", new_df[\"q2_chars\"].max())"
   ]
  },
  {
   "cell_type": "code",
   "execution_count": 54,
   "id": "4dc709bd",
   "metadata": {},
   "outputs": [
    {
     "name": "stdout",
     "output_type": "stream",
     "text": [
      "Average No. of Characters 60\n"
     ]
    }
   ],
   "source": [
    "print(\"Average No. of Characters\", int(new_df[\"q2_chars\"].mean()))"
   ]
  },
  {
   "cell_type": "markdown",
   "id": "50003bf2",
   "metadata": {},
   "source": [
    "## Features Anaysis of Question 1 Words"
   ]
  },
  {
   "cell_type": "code",
   "execution_count": 55,
   "id": "7a4be881",
   "metadata": {},
   "outputs": [
    {
     "data": {
      "text/plain": [
       "(array([2.000e+00, 3.000e+00, 1.680e+02, 0.000e+00, 4.830e+02, 9.480e+02,\n",
       "        1.515e+03, 0.000e+00, 2.156e+03, 2.254e+03, 0.000e+00, 2.230e+03,\n",
       "        1.975e+03, 1.496e+03, 0.000e+00, 1.192e+03, 9.360e+02, 0.000e+00,\n",
       "        8.170e+02, 6.490e+02, 5.400e+02, 0.000e+00, 4.410e+02, 3.680e+02,\n",
       "        0.000e+00, 2.880e+02, 2.970e+02, 1.990e+02, 0.000e+00, 1.810e+02,\n",
       "        1.560e+02, 1.170e+02, 0.000e+00, 1.150e+02, 1.000e+02, 0.000e+00,\n",
       "        6.800e+01, 6.600e+01, 6.000e+01, 0.000e+00, 3.400e+01, 2.900e+01,\n",
       "        0.000e+00, 2.700e+01, 1.400e+01, 1.000e+01, 0.000e+00, 1.400e+01,\n",
       "        6.000e+00, 0.000e+00, 5.000e+00, 5.000e+00, 5.000e+00, 0.000e+00,\n",
       "        6.000e+00, 3.000e+00, 4.000e+00, 0.000e+00, 4.000e+00, 2.000e+00,\n",
       "        0.000e+00, 0.000e+00, 3.000e+00, 1.000e+00, 0.000e+00, 1.000e+00,\n",
       "        1.000e+00, 0.000e+00, 0.000e+00, 0.000e+00, 0.000e+00, 0.000e+00,\n",
       "        1.000e+00, 0.000e+00, 0.000e+00, 0.000e+00, 0.000e+00, 0.000e+00,\n",
       "        0.000e+00, 0.000e+00, 1.000e+00, 0.000e+00, 0.000e+00, 2.000e+00,\n",
       "        0.000e+00, 0.000e+00, 0.000e+00, 0.000e+00, 0.000e+00, 0.000e+00,\n",
       "        0.000e+00, 0.000e+00, 0.000e+00, 1.000e+00, 0.000e+00, 0.000e+00,\n",
       "        0.000e+00, 0.000e+00, 0.000e+00, 1.000e+00]),\n",
       " array([ 1.  ,  1.72,  2.44,  3.16,  3.88,  4.6 ,  5.32,  6.04,  6.76,\n",
       "         7.48,  8.2 ,  8.92,  9.64, 10.36, 11.08, 11.8 , 12.52, 13.24,\n",
       "        13.96, 14.68, 15.4 , 16.12, 16.84, 17.56, 18.28, 19.  , 19.72,\n",
       "        20.44, 21.16, 21.88, 22.6 , 23.32, 24.04, 24.76, 25.48, 26.2 ,\n",
       "        26.92, 27.64, 28.36, 29.08, 29.8 , 30.52, 31.24, 31.96, 32.68,\n",
       "        33.4 , 34.12, 34.84, 35.56, 36.28, 37.  , 37.72, 38.44, 39.16,\n",
       "        39.88, 40.6 , 41.32, 42.04, 42.76, 43.48, 44.2 , 44.92, 45.64,\n",
       "        46.36, 47.08, 47.8 , 48.52, 49.24, 49.96, 50.68, 51.4 , 52.12,\n",
       "        52.84, 53.56, 54.28, 55.  , 55.72, 56.44, 57.16, 57.88, 58.6 ,\n",
       "        59.32, 60.04, 60.76, 61.48, 62.2 , 62.92, 63.64, 64.36, 65.08,\n",
       "        65.8 , 66.52, 67.24, 67.96, 68.68, 69.4 , 70.12, 70.84, 71.56,\n",
       "        72.28, 73.  ]),\n",
       " <BarContainer object of 100 artists>)"
      ]
     },
     "execution_count": 55,
     "metadata": {},
     "output_type": "execute_result"
    },
    {
     "data": {
      "image/png": "[encoded data removed]",
      "text/plain": [
       "<Figure size 640x480 with 1 Axes>"
      ]
     },
     "metadata": {},
     "output_type": "display_data"
    }
   ],
   "source": [
    "plt.hist(new_df[\"num_of_words_q1\"],bins=100)"
   ]
  },
  {
   "cell_type": "code",
   "execution_count": 56,
   "id": "efe88e6f",
   "metadata": {},
   "outputs": [
    {
     "name": "stdout",
     "output_type": "stream",
     "text": [
      "Minimum No. of Characters 1\n"
     ]
    }
   ],
   "source": [
    "print(\"Minimum No. of Characters\", new_df[\"num_of_words_q1\"].min())"
   ]
  },
  {
   "cell_type": "code",
   "execution_count": 57,
   "id": "c3b4f664",
   "metadata": {},
   "outputs": [
    {
     "name": "stdout",
     "output_type": "stream",
     "text": [
      "Maximum No. of Characters 73\n"
     ]
    }
   ],
   "source": [
    "print(\"Maximum No. of Characters\", new_df[\"num_of_words_q1\"].max())"
   ]
  },
  {
   "cell_type": "code",
   "execution_count": 58,
   "id": "aa8a8c20",
   "metadata": {},
   "outputs": [
    {
     "name": "stdout",
     "output_type": "stream",
     "text": [
      "Average No. of Characters 10\n"
     ]
    }
   ],
   "source": [
    "print(\"Average No. of Characters\", int(new_df[\"num_of_words_q1\"].mean()))"
   ]
  },
  {
   "cell_type": "markdown",
   "id": "0d8f79b5",
   "metadata": {},
   "source": [
    "## Features Anaysis of Question 2 Words"
   ]
  },
  {
   "cell_type": "code",
   "execution_count": 59,
   "id": "a827f61a",
   "metadata": {},
   "outputs": [
    {
     "data": {
      "text/plain": [
       "<seaborn.axisgrid.FacetGrid at 0x7ff1ef02bb20>"
      ]
     },
     "execution_count": 59,
     "metadata": {},
     "output_type": "execute_result"
    },
    {
     "data": {
      "image/png": "[encoded data removed]",
      "text/plain": [
       "<Figure size 500x500 with 1 Axes>"
      ]
     },
     "metadata": {},
     "output_type": "display_data"
    }
   ],
   "source": [
    "sns.displot(new_df[\"num_of_words_q2\"])"
   ]
  },
  {
   "cell_type": "code",
   "execution_count": 60,
   "id": "c51a323a",
   "metadata": {},
   "outputs": [
    {
     "data": {
      "image/png": "[encoded data removed]",
      "text/plain": [
       "<Figure size 640x480 with 1 Axes>"
      ]
     },
     "metadata": {},
     "output_type": "display_data"
    }
   ],
   "source": [
    "# common words\n",
    "sns.distplot(new_df[new_df['is_duplicate'] == 0]['common_words'],label='non duplicate',color=\"b\")\n",
    "sns.distplot(new_df[new_df['is_duplicate'] == 1]['common_words'],label='duplicate',color=\"r\")\n",
    "\n",
    "plt.legend()\n",
    "plt.show()"
   ]
  },
  {
   "cell_type": "code",
   "execution_count": 61,
   "id": "48d20aeb",
   "metadata": {},
   "outputs": [
    {
     "data": {
      "image/png": "[encoded data removed]",
      "text/plain": [
       "<Figure size 640x480 with 1 Axes>"
      ]
     },
     "metadata": {},
     "output_type": "display_data"
    }
   ],
   "source": [
    "# total words\n",
    "sns.distplot(new_df[new_df['is_duplicate'] == 0]['total_words_in_questions'],label='non duplicate', color=\"r\")\n",
    "sns.distplot(new_df[new_df['is_duplicate'] == 1]['total_words_in_questions'],label='duplicate', color=\"black\")\n",
    "plt.legend()\n",
    "plt.show()"
   ]
  },
  {
   "cell_type": "code",
   "execution_count": 62,
   "id": "8a28ef33",
   "metadata": {},
   "outputs": [
    {
     "data": {
      "text/html": [
       "<div>\n",
       "<style scoped>\n",
       "    .dataframe tbody tr th:only-of-type {\n",
       "        vertical-align: middle;\n",
       "    }\n",
       "\n",
       "    .dataframe tbody tr th {\n",
       "        vertical-align: top;\n",
       "    }\n",
       "\n",
       "    .dataframe thead th {\n",
       "        text-align: right;\n",
       "    }\n",
       "</style>\n",
       "<table border=\"1\" class=\"dataframe\">\n",
       "  <thead>\n",
       "    <tr style=\"text-align: right;\">\n",
       "      <th></th>\n",
       "      <th>id</th>\n",
       "      <th>qid1</th>\n",
       "      <th>qid2</th>\n",
       "      <th>question1</th>\n",
       "      <th>question2</th>\n",
       "      <th>is_duplicate</th>\n",
       "      <th>q1_chars</th>\n",
       "      <th>q2_chars</th>\n",
       "      <th>num_of_words_q1</th>\n",
       "      <th>num_of_words_q2</th>\n",
       "      <th>common_words</th>\n",
       "      <th>total_words_in_questions</th>\n",
       "      <th>shared_words_in_questions</th>\n",
       "    </tr>\n",
       "  </thead>\n",
       "  <tbody>\n",
       "    <tr>\n",
       "      <th>187265</th>\n",
       "      <td>187265</td>\n",
       "      <td>61254</td>\n",
       "      <td>82970</td>\n",
       "      <td>Are we near World War 3?</td>\n",
       "      <td>Is World War 3 closer than it has ever been?</td>\n",
       "      <td>1</td>\n",
       "      <td>24</td>\n",
       "      <td>44</td>\n",
       "      <td>6</td>\n",
       "      <td>10</td>\n",
       "      <td>2</td>\n",
       "      <td>16</td>\n",
       "      <td>0.125000</td>\n",
       "    </tr>\n",
       "    <tr>\n",
       "      <th>6557</th>\n",
       "      <td>6557</td>\n",
       "      <td>12839</td>\n",
       "      <td>12840</td>\n",
       "      <td>What are the best Doctor Doom stories?</td>\n",
       "      <td>What are the best comics featuring Doctor Doom?</td>\n",
       "      <td>1</td>\n",
       "      <td>38</td>\n",
       "      <td>47</td>\n",
       "      <td>7</td>\n",
       "      <td>8</td>\n",
       "      <td>5</td>\n",
       "      <td>15</td>\n",
       "      <td>0.333333</td>\n",
       "    </tr>\n",
       "  </tbody>\n",
       "</table>\n",
       "</div>"
      ],
      "text/plain": [
       "            id   qid1   qid2                               question1  \\\n",
       "187265  187265  61254  82970                Are we near World War 3?   \n",
       "6557      6557  12839  12840  What are the best Doctor Doom stories?   \n",
       "\n",
       "                                              question2  is_duplicate  \\\n",
       "187265     Is World War 3 closer than it has ever been?             1   \n",
       "6557    What are the best comics featuring Doctor Doom?             1   \n",
       "\n",
       "        q1_chars  q2_chars  num_of_words_q1  num_of_words_q2  common_words  \\\n",
       "187265        24        44                6               10             2   \n",
       "6557          38        47                7                8             5   \n",
       "\n",
       "        total_words_in_questions  shared_words_in_questions  \n",
       "187265                        16                   0.125000  \n",
       "6557                          15                   0.333333  "
      ]
     },
     "execution_count": 62,
     "metadata": {},
     "output_type": "execute_result"
    }
   ],
   "source": [
    "new_df.head(2)"
   ]
  },
  {
   "cell_type": "code",
   "execution_count": 63,
   "id": "ed8cb2b1",
   "metadata": {},
   "outputs": [
    {
     "data": {
      "image/png": "[encoded data removed]",
      "text/plain": [
       "<Figure size 640x480 with 1 Axes>"
      ]
     },
     "metadata": {},
     "output_type": "display_data"
    }
   ],
   "source": [
    "# word share\n",
    "sns.distplot(new_df[new_df['is_duplicate'] == 0][\"shared_words_in_questions\"],label='Non-duplicate')\n",
    "sns.distplot(new_df[new_df['is_duplicate'] == 1]['shared_words_in_questions'],label='Duplicate')\n",
    "plt.legend()\n",
    "plt.show()"
   ]
  },
  {
   "cell_type": "code",
   "execution_count": 64,
   "id": "bc1338fa",
   "metadata": {},
   "outputs": [],
   "source": [
    "ques_df = new_df[['question1','question2']]"
   ]
  },
  {
   "cell_type": "code",
   "execution_count": 65,
   "id": "5a31379b",
   "metadata": {},
   "outputs": [
    {
     "data": {
      "text/html": [
       "<div>\n",
       "<style scoped>\n",
       "    .dataframe tbody tr th:only-of-type {\n",
       "        vertical-align: middle;\n",
       "    }\n",
       "\n",
       "    .dataframe tbody tr th {\n",
       "        vertical-align: top;\n",
       "    }\n",
       "\n",
       "    .dataframe thead th {\n",
       "        text-align: right;\n",
       "    }\n",
       "</style>\n",
       "<table border=\"1\" class=\"dataframe\">\n",
       "  <thead>\n",
       "    <tr style=\"text-align: right;\">\n",
       "      <th></th>\n",
       "      <th>question1</th>\n",
       "      <th>question2</th>\n",
       "    </tr>\n",
       "  </thead>\n",
       "  <tbody>\n",
       "    <tr>\n",
       "      <th>187265</th>\n",
       "      <td>Are we near World War 3?</td>\n",
       "      <td>Is World War 3 closer than it has ever been?</td>\n",
       "    </tr>\n",
       "    <tr>\n",
       "      <th>6557</th>\n",
       "      <td>What are the best Doctor Doom stories?</td>\n",
       "      <td>What are the best comics featuring Doctor Doom?</td>\n",
       "    </tr>\n",
       "    <tr>\n",
       "      <th>139264</th>\n",
       "      <td>Why are Newton's rings circular in shape? Why ...</td>\n",
       "      <td>Why is a circular ring pattern obtained in New...</td>\n",
       "    </tr>\n",
       "    <tr>\n",
       "      <th>240135</th>\n",
       "      <td>How does Wikipedia ensure content quality / au...</td>\n",
       "      <td>How does Wikipedia keep content quality high?</td>\n",
       "    </tr>\n",
       "    <tr>\n",
       "      <th>3336</th>\n",
       "      <td>Height: How would a 14 year old increase his h...</td>\n",
       "      <td>How should I increase my height?</td>\n",
       "    </tr>\n",
       "  </tbody>\n",
       "</table>\n",
       "</div>"
      ],
      "text/plain": [
       "                                                question1  \\\n",
       "187265                           Are we near World War 3?   \n",
       "6557               What are the best Doctor Doom stories?   \n",
       "139264  Why are Newton's rings circular in shape? Why ...   \n",
       "240135  How does Wikipedia ensure content quality / au...   \n",
       "3336    Height: How would a 14 year old increase his h...   \n",
       "\n",
       "                                                question2  \n",
       "187265       Is World War 3 closer than it has ever been?  \n",
       "6557      What are the best comics featuring Doctor Doom?  \n",
       "139264  Why is a circular ring pattern obtained in New...  \n",
       "240135      How does Wikipedia keep content quality high?  \n",
       "3336                     How should I increase my height?  "
      ]
     },
     "execution_count": 65,
     "metadata": {},
     "output_type": "execute_result"
    }
   ],
   "source": [
    "ques_df.head(5)"
   ]
  },
  {
   "cell_type": "code",
   "execution_count": 66,
   "id": "40ac920d",
   "metadata": {},
   "outputs": [
    {
     "name": "stdout",
     "output_type": "stream",
     "text": [
      "(20000, 8)\n"
     ]
    },
    {
     "data": {
      "text/html": [
       "<div>\n",
       "<style scoped>\n",
       "    .dataframe tbody tr th:only-of-type {\n",
       "        vertical-align: middle;\n",
       "    }\n",
       "\n",
       "    .dataframe tbody tr th {\n",
       "        vertical-align: top;\n",
       "    }\n",
       "\n",
       "    .dataframe thead th {\n",
       "        text-align: right;\n",
       "    }\n",
       "</style>\n",
       "<table border=\"1\" class=\"dataframe\">\n",
       "  <thead>\n",
       "    <tr style=\"text-align: right;\">\n",
       "      <th></th>\n",
       "      <th>is_duplicate</th>\n",
       "      <th>q1_chars</th>\n",
       "      <th>q2_chars</th>\n",
       "      <th>num_of_words_q1</th>\n",
       "      <th>num_of_words_q2</th>\n",
       "      <th>common_words</th>\n",
       "      <th>total_words_in_questions</th>\n",
       "      <th>shared_words_in_questions</th>\n",
       "    </tr>\n",
       "  </thead>\n",
       "  <tbody>\n",
       "    <tr>\n",
       "      <th>187265</th>\n",
       "      <td>1</td>\n",
       "      <td>24</td>\n",
       "      <td>44</td>\n",
       "      <td>6</td>\n",
       "      <td>10</td>\n",
       "      <td>2</td>\n",
       "      <td>16</td>\n",
       "      <td>0.125000</td>\n",
       "    </tr>\n",
       "    <tr>\n",
       "      <th>6557</th>\n",
       "      <td>1</td>\n",
       "      <td>38</td>\n",
       "      <td>47</td>\n",
       "      <td>7</td>\n",
       "      <td>8</td>\n",
       "      <td>5</td>\n",
       "      <td>15</td>\n",
       "      <td>0.333333</td>\n",
       "    </tr>\n",
       "    <tr>\n",
       "      <th>139264</th>\n",
       "      <td>0</td>\n",
       "      <td>76</td>\n",
       "      <td>64</td>\n",
       "      <td>14</td>\n",
       "      <td>11</td>\n",
       "      <td>4</td>\n",
       "      <td>22</td>\n",
       "      <td>0.181818</td>\n",
       "    </tr>\n",
       "    <tr>\n",
       "      <th>240135</th>\n",
       "      <td>1</td>\n",
       "      <td>71</td>\n",
       "      <td>45</td>\n",
       "      <td>10</td>\n",
       "      <td>7</td>\n",
       "      <td>5</td>\n",
       "      <td>17</td>\n",
       "      <td>0.294118</td>\n",
       "    </tr>\n",
       "    <tr>\n",
       "      <th>3336</th>\n",
       "      <td>1</td>\n",
       "      <td>52</td>\n",
       "      <td>32</td>\n",
       "      <td>10</td>\n",
       "      <td>6</td>\n",
       "      <td>3</td>\n",
       "      <td>16</td>\n",
       "      <td>0.187500</td>\n",
       "    </tr>\n",
       "  </tbody>\n",
       "</table>\n",
       "</div>"
      ],
      "text/plain": [
       "        is_duplicate  q1_chars  q2_chars  num_of_words_q1  num_of_words_q2  \\\n",
       "187265             1        24        44                6               10   \n",
       "6557               1        38        47                7                8   \n",
       "139264             0        76        64               14               11   \n",
       "240135             1        71        45               10                7   \n",
       "3336               1        52        32               10                6   \n",
       "\n",
       "        common_words  total_words_in_questions  shared_words_in_questions  \n",
       "187265             2                        16                   0.125000  \n",
       "6557               5                        15                   0.333333  \n",
       "139264             4                        22                   0.181818  \n",
       "240135             5                        17                   0.294118  \n",
       "3336               3                        16                   0.187500  "
      ]
     },
     "execution_count": 66,
     "metadata": {},
     "output_type": "execute_result"
    }
   ],
   "source": [
    "final_df = new_df.drop(columns=['id','qid1','qid2','question1','question2'])\n",
    "print(final_df.shape)\n",
    "final_df.head()"
   ]
  },
  {
   "cell_type": "code",
   "execution_count": 67,
   "id": "13980c32",
   "metadata": {},
   "outputs": [],
   "source": [
    "from sklearn.feature_extraction.text import CountVectorizer\n",
    "# merge texts\n",
    "questions = list(ques_df['question1']) + list(ques_df['question2'])\n",
    "\n",
    "cv = CountVectorizer(max_features=3000)\n",
    "q1_arr, q2_arr = np.vsplit(cv.fit_transform(questions).toarray(),2)"
   ]
  },
  {
   "cell_type": "code",
   "execution_count": 68,
   "id": "6787b8ba",
   "metadata": {},
   "outputs": [
    {
     "data": {
      "text/plain": [
       "(20000, 6000)"
      ]
     },
     "execution_count": 68,
     "metadata": {},
     "output_type": "execute_result"
    }
   ],
   "source": [
    "temp_df1 = pd.DataFrame(q1_arr, index= ques_df.index)\n",
    "temp_df2 = pd.DataFrame(q2_arr, index= ques_df.index)\n",
    "temp_df = pd.concat([temp_df1, temp_df2], axis=1)\n",
    "temp_df.shape"
   ]
  },
  {
   "cell_type": "code",
   "execution_count": 69,
   "id": "f554983c",
   "metadata": {},
   "outputs": [
    {
     "name": "stdout",
     "output_type": "stream",
     "text": [
      "(20000, 6008)\n"
     ]
    },
    {
     "data": {
      "text/html": [
       "<div>\n",
       "<style scoped>\n",
       "    .dataframe tbody tr th:only-of-type {\n",
       "        vertical-align: middle;\n",
       "    }\n",
       "\n",
       "    .dataframe tbody tr th {\n",
       "        vertical-align: top;\n",
       "    }\n",
       "\n",
       "    .dataframe thead th {\n",
       "        text-align: right;\n",
       "    }\n",
       "</style>\n",
       "<table border=\"1\" class=\"dataframe\">\n",
       "  <thead>\n",
       "    <tr style=\"text-align: right;\">\n",
       "      <th></th>\n",
       "      <th>is_duplicate</th>\n",
       "      <th>q1_chars</th>\n",
       "      <th>q2_chars</th>\n",
       "      <th>num_of_words_q1</th>\n",
       "      <th>num_of_words_q2</th>\n",
       "      <th>common_words</th>\n",
       "      <th>total_words_in_questions</th>\n",
       "      <th>shared_words_in_questions</th>\n",
       "      <th>0</th>\n",
       "      <th>1</th>\n",
       "      <th>...</th>\n",
       "      <th>2990</th>\n",
       "      <th>2991</th>\n",
       "      <th>2992</th>\n",
       "      <th>2993</th>\n",
       "      <th>2994</th>\n",
       "      <th>2995</th>\n",
       "      <th>2996</th>\n",
       "      <th>2997</th>\n",
       "      <th>2998</th>\n",
       "      <th>2999</th>\n",
       "    </tr>\n",
       "  </thead>\n",
       "  <tbody>\n",
       "    <tr>\n",
       "      <th>187265</th>\n",
       "      <td>1</td>\n",
       "      <td>24</td>\n",
       "      <td>44</td>\n",
       "      <td>6</td>\n",
       "      <td>10</td>\n",
       "      <td>2</td>\n",
       "      <td>16</td>\n",
       "      <td>0.125000</td>\n",
       "      <td>0</td>\n",
       "      <td>0</td>\n",
       "      <td>...</td>\n",
       "      <td>0</td>\n",
       "      <td>0</td>\n",
       "      <td>0</td>\n",
       "      <td>0</td>\n",
       "      <td>0</td>\n",
       "      <td>0</td>\n",
       "      <td>0</td>\n",
       "      <td>0</td>\n",
       "      <td>0</td>\n",
       "      <td>0</td>\n",
       "    </tr>\n",
       "    <tr>\n",
       "      <th>6557</th>\n",
       "      <td>1</td>\n",
       "      <td>38</td>\n",
       "      <td>47</td>\n",
       "      <td>7</td>\n",
       "      <td>8</td>\n",
       "      <td>5</td>\n",
       "      <td>15</td>\n",
       "      <td>0.333333</td>\n",
       "      <td>0</td>\n",
       "      <td>0</td>\n",
       "      <td>...</td>\n",
       "      <td>0</td>\n",
       "      <td>0</td>\n",
       "      <td>0</td>\n",
       "      <td>0</td>\n",
       "      <td>0</td>\n",
       "      <td>0</td>\n",
       "      <td>0</td>\n",
       "      <td>0</td>\n",
       "      <td>0</td>\n",
       "      <td>0</td>\n",
       "    </tr>\n",
       "    <tr>\n",
       "      <th>139264</th>\n",
       "      <td>0</td>\n",
       "      <td>76</td>\n",
       "      <td>64</td>\n",
       "      <td>14</td>\n",
       "      <td>11</td>\n",
       "      <td>4</td>\n",
       "      <td>22</td>\n",
       "      <td>0.181818</td>\n",
       "      <td>0</td>\n",
       "      <td>0</td>\n",
       "      <td>...</td>\n",
       "      <td>0</td>\n",
       "      <td>0</td>\n",
       "      <td>0</td>\n",
       "      <td>0</td>\n",
       "      <td>0</td>\n",
       "      <td>0</td>\n",
       "      <td>0</td>\n",
       "      <td>0</td>\n",
       "      <td>0</td>\n",
       "      <td>0</td>\n",
       "    </tr>\n",
       "    <tr>\n",
       "      <th>240135</th>\n",
       "      <td>1</td>\n",
       "      <td>71</td>\n",
       "      <td>45</td>\n",
       "      <td>10</td>\n",
       "      <td>7</td>\n",
       "      <td>5</td>\n",
       "      <td>17</td>\n",
       "      <td>0.294118</td>\n",
       "      <td>0</td>\n",
       "      <td>0</td>\n",
       "      <td>...</td>\n",
       "      <td>0</td>\n",
       "      <td>0</td>\n",
       "      <td>0</td>\n",
       "      <td>0</td>\n",
       "      <td>0</td>\n",
       "      <td>0</td>\n",
       "      <td>0</td>\n",
       "      <td>0</td>\n",
       "      <td>0</td>\n",
       "      <td>0</td>\n",
       "    </tr>\n",
       "    <tr>\n",
       "      <th>3336</th>\n",
       "      <td>1</td>\n",
       "      <td>52</td>\n",
       "      <td>32</td>\n",
       "      <td>10</td>\n",
       "      <td>6</td>\n",
       "      <td>3</td>\n",
       "      <td>16</td>\n",
       "      <td>0.187500</td>\n",
       "      <td>0</td>\n",
       "      <td>0</td>\n",
       "      <td>...</td>\n",
       "      <td>0</td>\n",
       "      <td>0</td>\n",
       "      <td>0</td>\n",
       "      <td>0</td>\n",
       "      <td>0</td>\n",
       "      <td>0</td>\n",
       "      <td>0</td>\n",
       "      <td>0</td>\n",
       "      <td>0</td>\n",
       "      <td>0</td>\n",
       "    </tr>\n",
       "  </tbody>\n",
       "</table>\n",
       "<p>5 rows × 6008 columns</p>\n",
       "</div>"
      ],
      "text/plain": [
       "        is_duplicate  q1_chars  q2_chars  num_of_words_q1  num_of_words_q2  \\\n",
       "187265             1        24        44                6               10   \n",
       "6557               1        38        47                7                8   \n",
       "139264             0        76        64               14               11   \n",
       "240135             1        71        45               10                7   \n",
       "3336               1        52        32               10                6   \n",
       "\n",
       "        common_words  total_words_in_questions  shared_words_in_questions  0  \\\n",
       "187265             2                        16                   0.125000  0   \n",
       "6557               5                        15                   0.333333  0   \n",
       "139264             4                        22                   0.181818  0   \n",
       "240135             5                        17                   0.294118  0   \n",
       "3336               3                        16                   0.187500  0   \n",
       "\n",
       "        1  ...  2990  2991  2992  2993  2994  2995  2996  2997  2998  2999  \n",
       "187265  0  ...     0     0     0     0     0     0     0     0     0     0  \n",
       "6557    0  ...     0     0     0     0     0     0     0     0     0     0  \n",
       "139264  0  ...     0     0     0     0     0     0     0     0     0     0  \n",
       "240135  0  ...     0     0     0     0     0     0     0     0     0     0  \n",
       "3336    0  ...     0     0     0     0     0     0     0     0     0     0  \n",
       "\n",
       "[5 rows x 6008 columns]"
      ]
     },
     "execution_count": 69,
     "metadata": {},
     "output_type": "execute_result"
    }
   ],
   "source": [
    "final_df = pd.concat([final_df, temp_df], axis=1)\n",
    "print(final_df.shape)\n",
    "final_df.head()"
   ]
  },
  {
   "cell_type": "code",
   "execution_count": 70,
   "id": "ab82b6c6",
   "metadata": {},
   "outputs": [],
   "source": [
    "from sklearn.model_selection import train_test_split\n",
    "X_train,X_test,y_train,y_test = train_test_split(final_df.iloc[:,1:].values,final_df.iloc[:,0].values,test_size=0.2,random_state=1)\n"
   ]
  },
  {
   "cell_type": "code",
   "execution_count": 71,
   "id": "f9be67bd",
   "metadata": {},
   "outputs": [
    {
     "data": {
      "text/plain": [
       "0.7585"
      ]
     },
     "execution_count": 71,
     "metadata": {},
     "output_type": "execute_result"
    }
   ],
   "source": [
    "from sklearn.ensemble import RandomForestClassifier\n",
    "from sklearn.metrics import accuracy_score\n",
    "rf = RandomForestClassifier()\n",
    "rf.fit(X_train,y_train)\n",
    "y_pred = rf.predict(X_test)\n",
    "accuracy_score(y_test,y_pred)"
   ]
  },
  {
   "cell_type": "code",
   "execution_count": 72,
   "id": "cec9dc03",
   "metadata": {},
   "outputs": [
    {
     "data": {
      "text/plain": [
       "0.75575"
      ]
     },
     "execution_count": 72,
     "metadata": {},
     "output_type": "execute_result"
    }
   ],
   "source": [
    "from xgboost import XGBClassifier\n",
    "xgb = XGBClassifier()\n",
    "xgb.fit(X_train,y_train)\n",
    "y_pred = xgb.predict(X_test)\n",
    "accuracy_score(y_test,y_pred)"
   ]
  },
  {
   "cell_type": "code",
   "execution_count": null,
   "id": "101e3694",
   "metadata": {},
   "outputs": [],
   "source": []
  },
  {
   "cell_type": "code",
   "execution_count": null,
   "id": "117df0b5",
   "metadata": {},
   "outputs": [],
   "source": []
  }
 ],
 "metadata": {
  "kernelspec": {
   "display_name": "Python 3 (ipykernel)",
   "language": "python",
   "name": "python3"
  },
  "language_info": {
   "codemirror_mode": {
    "name": "ipython",
    "version": 3
   },
   "file_extension": ".py",
   "mimetype": "text/x-python",
   "name": "python",
   "nbconvert_exporter": "python",
   "pygments_lexer": "ipython3",
   "version": "3.10.6"
  }
 },
 "nbformat": 4,
 "nbformat_minor": 5
}
